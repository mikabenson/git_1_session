{
  "cells": [
    {
      "cell_type": "markdown",
      "metadata": {
        "colab_type": "text",
        "id": "view-in-github"
      },
      "source": [
        "<a href=\"https://colab.research.google.com/github/Mikabenson-ml/https-github.com-mikabenson-git_hub1_repo/blob/master/statistics_1.ipynb\" target=\"_parent\"><img src=\"https://colab.research.google.com/assets/colab-badge.svg\" alt=\"Open In Colab\"/></a>"
      ]
    },
    {
      "cell_type": "code",
      "execution_count": null,
      "metadata": {
        "id": "mzGOAB-Nk2qL"
      },
      "outputs": [],
      "source": [
        "from scipy import stats # it imports scientific python when dealing with numerics"
      ]
    },
    {
      "cell_type": "code",
      "execution_count": null,
      "metadata": {
        "id": "kiLS5lva3cO2"
      },
      "outputs": [],
      "source": [
        "import numpy as np\n",
        "import pandas as pd\n",
        "import matplotlib.pyplot as plt\n",
        "form scipy import stats"
      ]
    },
    {
      "cell_type": "markdown",
      "metadata": {
        "id": "hiwrgm9WotNV"
      },
      "source": [
        "**STATISTICS FOR DATA SCIENCE...**"
      ]
    },
    {
      "cell_type": "code",
      "execution_count": null,
      "metadata": {
        "colab": {
          "background_save": true,
          "base_uri": "https://localhost:8080/",
          "height": 211
        },
        "id": "HiMe0WR9n8X_",
        "outputId": "c62cae0e-efc2-4c72-ab07-24e5f02253a3"
      },
      "outputs": [
        {
          "data": {
            "text/plain": [
              "array([19, 18, 21, 16, 15, 17, 20, 18, 21])"
            ]
          },
          "execution_count": 9,
          "metadata": {},
          "output_type": "execute_result"
        }
      ],
      "source": [
        "# determine the mean from the data set..\n",
        "data_2 = ([ 19, 18, 21, 16, 15, 17, 20, 18])\n",
        "data_2 =np.append(data_2,)\n",
        "data_2 = np.array(data_2)\n",
        "data_2"
      ]
    },
    {
      "cell_type": "code",
      "execution_count": null,
      "metadata": {
        "colab": {
          "base_uri": "https://localhost:8080/",
          "height": 35
        },
        "id": "2TBAwJU4n8fc",
        "outputId": "6cc9ab0c-df05-48e0-8637-c75731360a0a"
      },
      "outputs": [
        {
          "data": {
            "application/vnd.google.colaboratory.intrinsic+json": {
              "type": "string"
            },
            "text/plain": [
              "'Mean: 18.0'"
            ]
          },
          "execution_count": 12,
          "metadata": {},
          "output_type": "execute_result"
        }
      ],
      "source": [
        "f\"Mean: {np.mean(data_2)}\""
      ]
    },
    {
      "cell_type": "code",
      "execution_count": null,
      "metadata": {
        "colab": {
          "base_uri": "https://localhost:8080/",
          "height": 35
        },
        "id": "NHBji3UdoHW7",
        "outputId": "8eadd842-d830-47ac-ef02-ef29304795b3"
      },
      "outputs": [
        {
          "data": {
            "application/vnd.google.colaboratory.intrinsic+json": {
              "type": "string"
            },
            "text/plain": [
              "'mean: 18.0'"
            ]
          },
          "execution_count": 7,
          "metadata": {},
          "output_type": "execute_result"
        }
      ],
      "source": [
        "f\"mean: {np.mean(data_2)}\""
      ]
    },
    {
      "cell_type": "code",
      "execution_count": null,
      "metadata": {
        "colab": {
          "base_uri": "https://localhost:8080/",
          "height": 35
        },
        "id": "g_uv_JxmoHZr",
        "outputId": "3968ac5e-54ad-4c5c-f2be-241eb69af72b"
      },
      "outputs": [
        {
          "data": {
            "application/vnd.google.colaboratory.intrinsic+json": {
              "type": "string"
            },
            "text/plain": [
              "'Median:11.0'"
            ]
          },
          "execution_count": 3,
          "metadata": {},
          "output_type": "execute_result"
        }
      ],
      "source": [
        "# determine the median from the data set...\n",
        "data_dt = ([22, 56, 11, 4, -17, 6, 80])\n",
        "data_dt = np.array(data_dt)\n",
        "f\"Median:{np.median(data_dt)}\""
      ]
    },
    {
      "cell_type": "code",
      "execution_count": null,
      "metadata": {
        "id": "wug9kx7PouEk"
      },
      "outputs": [],
      "source": []
    },
    {
      "cell_type": "code",
      "execution_count": null,
      "metadata": {
        "id": "QdeeT-dnk_yk"
      },
      "outputs": [],
      "source": [
        "import numpy as np"
      ]
    },
    {
      "cell_type": "code",
      "execution_count": null,
      "metadata": {
        "id": "1YxGCMCyk_1u"
      },
      "outputs": [],
      "source": [
        "data = ([22,56,11,4,-17,6,80,-126])\n",
        "data = np.array(data)"
      ]
    },
    {
      "cell_type": "code",
      "execution_count": null,
      "metadata": {
        "id": "dZ8sWRT9k_4i"
      },
      "outputs": [],
      "source": []
    },
    {
      "cell_type": "code",
      "execution_count": null,
      "metadata": {
        "colab": {
          "base_uri": "https://localhost:8080/",
          "height": 35
        },
        "id": "xej9lZdslwDS",
        "outputId": "86d4231e-c5ef-40f9-91f5-d447a25d02f7"
      },
      "outputs": [
        {
          "data": {
            "application/vnd.google.colaboratory.intrinsic+json": {
              "type": "string"
            },
            "text/plain": [
              "'Median:8.5'"
            ]
          },
          "execution_count": 4,
          "metadata": {},
          "output_type": "execute_result"
        }
      ],
      "source": [
        "f\"Median:{np.median(data)}\""
      ]
    },
    {
      "cell_type": "code",
      "execution_count": null,
      "metadata": {
        "id": "3eiDF2k-l4Kt"
      },
      "outputs": [],
      "source": []
    },
    {
      "cell_type": "code",
      "execution_count": null,
      "metadata": {
        "id": "pc6nLg1yl53I"
      },
      "outputs": [],
      "source": [
        "# determine the mode of the data set..\n",
        "data_1 = 19, 18, 21, 16, 15, 17, 20, 18\n",
        "data_1 = np.array(data_1)"
      ]
    },
    {
      "cell_type": "code",
      "execution_count": null,
      "metadata": {
        "id": "1iPOdbFLmW5T"
      },
      "outputs": [],
      "source": [
        "from scipy import stats"
      ]
    },
    {
      "cell_type": "code",
      "execution_count": null,
      "metadata": {
        "id": "6OxY88xVmQck"
      },
      "outputs": [],
      "source": [
        "mode_result = stats.mode(data_1)"
      ]
    },
    {
      "cell_type": "code",
      "execution_count": null,
      "metadata": {
        "colab": {
          "base_uri": "https://localhost:8080/",
          "height": 35
        },
        "id": "jrR7mhiAm5-O",
        "outputId": "85367398-9d79-44f3-bc91-b078fef0ac71"
      },
      "outputs": [
        {
          "data": {
            "application/vnd.google.colaboratory.intrinsic+json": {
              "type": "string"
            },
            "text/plain": [
              "'Mode:18'"
            ]
          },
          "execution_count": 10,
          "metadata": {},
          "output_type": "execute_result"
        }
      ],
      "source": [
        "f\"Mode:{mode_result.mode}\""
      ]
    },
    {
      "cell_type": "code",
      "execution_count": null,
      "metadata": {
        "id": "b8VW47nPm6BO"
      },
      "outputs": [],
      "source": []
    },
    {
      "cell_type": "code",
      "execution_count": null,
      "metadata": {
        "id": "jR9v-TRpxjs5"
      },
      "outputs": [],
      "source": []
    },
    {
      "cell_type": "code",
      "execution_count": null,
      "metadata": {
        "id": "8J8V-D7sxjvt"
      },
      "outputs": [],
      "source": []
    },
    {
      "cell_type": "markdown",
      "metadata": {
        "id": "JXlOPGb5xlgk"
      },
      "source": [
        "**Measures of dispersion given a data_set**"
      ]
    },
    {
      "cell_type": "code",
      "execution_count": null,
      "metadata": {
        "colab": {
          "base_uri": "https://localhost:8080/"
        },
        "id": "V6y5NFkIxjyf",
        "outputId": "af724e5d-2080-4dfd-cbb8-738370868ba7"
      },
      "outputs": [
        {
          "data": {
            "text/plain": [
              "[19, 18, 21, 16, 15, 17, 20, 18]"
            ]
          },
          "execution_count": 22,
          "metadata": {},
          "output_type": "execute_result"
        }
      ],
      "source": [
        "data_set = [19, 18, 21, 16, 15, 17, 20, 18]\n",
        "data_set"
      ]
    },
    {
      "cell_type": "code",
      "execution_count": null,
      "metadata": {
        "colab": {
          "base_uri": "https://localhost:8080/"
        },
        "id": "IRseExClxj3b",
        "outputId": "9535d970-ef97-43b8-b421-978d372138a8"
      },
      "outputs": [
        {
          "data": {
            "text/plain": [
              "array([19, 18, 21, 16, 15, 17, 20, 18])"
            ]
          },
          "execution_count": 23,
          "metadata": {},
          "output_type": "execute_result"
        }
      ],
      "source": [
        "# create an array\n",
        "data_set = np.array(data_set)\n",
        "data_set"
      ]
    },
    {
      "cell_type": "code",
      "execution_count": null,
      "metadata": {
        "id": "VGEgKvJexj7n"
      },
      "outputs": [],
      "source": []
    },
    {
      "cell_type": "code",
      "execution_count": null,
      "metadata": {
        "colab": {
          "base_uri": "https://localhost:8080/"
        },
        "id": "IoCPNLV1yWZE",
        "outputId": "e9c2d30a-9d45-46d8-d25f-cb0f8aa37ab7"
      },
      "outputs": [
        {
          "data": {
            "text/plain": [
              "array([19, 18, 21, 16, 15, 17, 20, 18])"
            ]
          },
          "execution_count": 24,
          "metadata": {},
          "output_type": "execute_result"
        }
      ],
      "source": [
        "# Determine the minimum and maximum value from the data_set..\n",
        "data_set"
      ]
    },
    {
      "cell_type": "code",
      "execution_count": null,
      "metadata": {
        "colab": {
          "base_uri": "https://localhost:8080/",
          "height": 35
        },
        "id": "gTuqOZMIyWcb",
        "outputId": "6fc3c762-693f-42f8-fa86-8cded81e5275"
      },
      "outputs": [
        {
          "data": {
            "application/vnd.google.colaboratory.intrinsic+json": {
              "type": "string"
            },
            "text/plain": [
              "'Min:15'"
            ]
          },
          "execution_count": 25,
          "metadata": {},
          "output_type": "execute_result"
        }
      ],
      "source": [
        "f\"Min:{data_set.min()}\""
      ]
    },
    {
      "cell_type": "code",
      "execution_count": null,
      "metadata": {
        "colab": {
          "base_uri": "https://localhost:8080/",
          "height": 35
        },
        "id": "6f3B5oNbyphO",
        "outputId": "acb9e84e-1489-47f8-960d-e8df10f89c32"
      },
      "outputs": [
        {
          "data": {
            "application/vnd.google.colaboratory.intrinsic+json": {
              "type": "string"
            },
            "text/plain": [
              "'Max: 21'"
            ]
          },
          "execution_count": 7,
          "metadata": {},
          "output_type": "execute_result"
        }
      ],
      "source": [
        "f\"Max: {data_set.max()}\""
      ]
    },
    {
      "cell_type": "code",
      "execution_count": null,
      "metadata": {
        "colab": {
          "base_uri": "https://localhost:8080/",
          "height": 35
        },
        "id": "ZOOcEPFeypkm",
        "outputId": "f32f88de-a6dc-4f4f-87e5-a285727ce193"
      },
      "outputs": [
        {
          "data": {
            "application/vnd.google.colaboratory.intrinsic+json": {
              "type": "string"
            },
            "text/plain": [
              "'Range: {data_set.max(21) - data_set.min(15)}'"
            ]
          },
          "execution_count": 27,
          "metadata": {},
          "output_type": "execute_result"
        }
      ],
      "source": [
        "\"Range: {data_set.max(21) - data_set.min(15)}\" # should revist this concept.."
      ]
    },
    {
      "cell_type": "code",
      "execution_count": null,
      "metadata": {
        "id": "jz5zQRO90jsD"
      },
      "outputs": [],
      "source": []
    },
    {
      "cell_type": "code",
      "execution_count": null,
      "metadata": {
        "colab": {
          "base_uri": "https://localhost:8080/",
          "height": 35
        },
        "id": "04SF0rKryq99",
        "outputId": "8ef44702-8178-4535-ba95-48d9f19fe3ca"
      },
      "outputs": [
        {
          "data": {
            "application/vnd.google.colaboratory.intrinsic+json": {
              "type": "string"
            },
            "text/plain": [
              "'Range:, np.ptp(data_set)'"
            ]
          },
          "execution_count": 31,
          "metadata": {},
          "output_type": "execute_result"
        }
      ],
      "source": [
        "# To determine the range...\n",
        "data_set = [19, 18, 21, 16, 15, 17, 20, 18]\n",
        "\"Range:, np.ptp(data_set)\""
      ]
    },
    {
      "cell_type": "code",
      "execution_count": null,
      "metadata": {
        "id": "6Fycb0y9yrB0"
      },
      "outputs": [],
      "source": []
    },
    {
      "cell_type": "code",
      "execution_count": null,
      "metadata": {
        "colab": {
          "base_uri": "https://localhost:8080/"
        },
        "id": "CqLtibOBxkCN",
        "outputId": "5b8cabe1-6bb6-4fda-d520-258fd9785211"
      },
      "outputs": [
        {
          "data": {
            "text/plain": [
              "3.5"
            ]
          },
          "execution_count": 29,
          "metadata": {},
          "output_type": "execute_result"
        }
      ],
      "source": [
        "# Determine the variance..\n",
        "variance = np.var(data_set)\n",
        "variance"
      ]
    },
    {
      "cell_type": "code",
      "execution_count": null,
      "metadata": {
        "id": "_JdPfMsbyP7_"
      },
      "outputs": [],
      "source": []
    },
    {
      "cell_type": "code",
      "execution_count": null,
      "metadata": {
        "colab": {
          "base_uri": "https://localhost:8080/"
        },
        "id": "awFIHwFhyP-r",
        "outputId": "60f795c2-3c74-471d-e573-19d75b98db8e"
      },
      "outputs": [
        {
          "data": {
            "text/plain": [
              "1.8708286933869707"
            ]
          },
          "execution_count": 31,
          "metadata": {},
          "output_type": "execute_result"
        }
      ],
      "source": [
        "# Determine the standard deviation...\n",
        "std_deviation = np.std(data_set)\n",
        "std_deviation"
      ]
    },
    {
      "cell_type": "code",
      "execution_count": null,
      "metadata": {
        "id": "Ru3drxk1yQCS"
      },
      "outputs": [],
      "source": []
    },
    {
      "cell_type": "code",
      "execution_count": null,
      "metadata": {
        "id": "YJ1k1NXFxkVT"
      },
      "outputs": [],
      "source": []
    },
    {
      "cell_type": "code",
      "execution_count": null,
      "metadata": {
        "id": "6d8B8yUI1p4r"
      },
      "outputs": [],
      "source": []
    },
    {
      "cell_type": "markdown",
      "metadata": {
        "id": "mSPfqFzB13hZ"
      },
      "source": [
        "DISPERSION QUIZ.."
      ]
    },
    {
      "cell_type": "code",
      "execution_count": null,
      "metadata": {
        "id": "1DeXU63_1sJt"
      },
      "outputs": [],
      "source": [
        "data_sample = [4, 4, 4, 9, 5, 0, 5 ,1, 5, 3, 5, 7, 5, 8, 6, 2, 6, 6, 6, 6, 6, 8, 7, 1, 7, 5, 7, 7, 8, 0, 8, 5]\n"
      ]
    },
    {
      "cell_type": "code",
      "execution_count": null,
      "metadata": {
        "id": "s8ecHFaw1p7Q"
      },
      "outputs": [],
      "source": [
        "data_sample1 = sorted(data_sample)\n"
      ]
    },
    {
      "cell_type": "code",
      "execution_count": null,
      "metadata": {
        "id": "FkcfzQDD1qAo"
      },
      "outputs": [],
      "source": [
        "distance = len(data_sample1) - 1"
      ]
    },
    {
      "cell_type": "code",
      "execution_count": null,
      "metadata": {
        "colab": {
          "base_uri": "https://localhost:8080/"
        },
        "id": "jg9IMvTC1qDz",
        "outputId": "9a2f5a27-179f-4a0e-cf7e-f2940d4074f4"
      },
      "outputs": [
        {
          "data": {
            "text/plain": [
              "7.75"
            ]
          },
          "execution_count": 41,
          "metadata": {},
          "output_type": "execute_result"
        }
      ],
      "source": [
        "index_p25 = 0.25 * distance\n",
        "index_p25"
      ]
    },
    {
      "cell_type": "code",
      "execution_count": null,
      "metadata": {
        "colab": {
          "base_uri": "https://localhost:8080/"
        },
        "id": "TUH-tK07xkYQ",
        "outputId": "0340c41b-d62f-4618-c774-fa99c5c27d64"
      },
      "outputs": [
        {
          "data": {
            "text/plain": [
              "23.25"
            ]
          },
          "execution_count": 42,
          "metadata": {},
          "output_type": "execute_result"
        }
      ],
      "source": [
        "index_p75 = 0.75 * distance\n",
        "index_p75"
      ]
    },
    {
      "cell_type": "code",
      "execution_count": null,
      "metadata": {
        "colab": {
          "base_uri": "https://localhost:8080/"
        },
        "id": "bSvDxiFXAYQC",
        "outputId": "b0d77b92-f2c9-465e-9cda-c6a75cb66a46"
      },
      "outputs": [
        {
          "data": {
            "text/plain": [
              "4"
            ]
          },
          "execution_count": 44,
          "metadata": {},
          "output_type": "execute_result"
        }
      ],
      "source": [
        "p_25 = data_sample[int(index_p25)]\n",
        "p_25"
      ]
    },
    {
      "cell_type": "code",
      "execution_count": null,
      "metadata": {
        "colab": {
          "base_uri": "https://localhost:8080/"
        },
        "id": "hO7noM-4Arcg",
        "outputId": "ddfab52f-a505-4b31-fee6-a61c1004c011"
      },
      "outputs": [
        {
          "data": {
            "text/plain": [
              "7"
            ]
          },
          "execution_count": 46,
          "metadata": {},
          "output_type": "execute_result"
        }
      ],
      "source": [
        "p_75 = data_sample[int(index_p75)]\n",
        "p_75"
      ]
    },
    {
      "cell_type": "code",
      "execution_count": null,
      "metadata": {
        "colab": {
          "base_uri": "https://localhost:8080/"
        },
        "id": "ajYRihT_A0FK",
        "outputId": "ddfa37ff-b620-4d93-dd3d-96b7cebc1735"
      },
      "outputs": [
        {
          "data": {
            "text/plain": [
              "3"
            ]
          },
          "execution_count": 48,
          "metadata": {},
          "output_type": "execute_result"
        }
      ],
      "source": [
        "IQR = p_75 - p_25\n",
        "IQR"
      ]
    },
    {
      "cell_type": "code",
      "execution_count": null,
      "metadata": {
        "id": "GECAo1IHA6dQ"
      },
      "outputs": [],
      "source": []
    },
    {
      "cell_type": "code",
      "execution_count": null,
      "metadata": {
        "id": "LGBTv_S6GgoL"
      },
      "outputs": [],
      "source": [
        "# Kindly be reminded to look at this issue on determining the median for the 10 years of marriages data recorded.."
      ]
    },
    {
      "cell_type": "code",
      "execution_count": null,
      "metadata": {
        "colab": {
          "background_save": true
        },
        "id": "rFc7LE_lBGeL"
      },
      "outputs": [],
      "source": [
        "import numpy as np"
      ]
    },
    {
      "cell_type": "code",
      "execution_count": null,
      "metadata": {
        "colab": {
          "base_uri": "https://localhost:8080/",
          "height": 35
        },
        "id": "aRNzq7EsBGg4",
        "outputId": "9906ec9c-e635-422a-afa2-9d5c203bd28c"
      },
      "outputs": [
        {
          "data": {
            "application/vnd.google.colaboratory.intrinsic+json": {
              "type": "string"
            },
            "text/plain": [
              "'Median:[40650 40812 41300 41450 39594 40734 39993 38814 37828 35716]'"
            ]
          },
          "execution_count": 76,
          "metadata": {},
          "output_type": "execute_result"
        }
      ],
      "source": [
        "year_marr = ([40650, 40812, 41300, 41450, 39594, 40734, 39993, 38814, 37828, 35716])\n",
        "year_marr = np.array(year_marr)\n",
        "f\"Median:{np.array(year_marr)}\""
      ]
    },
    {
      "cell_type": "code",
      "execution_count": null,
      "metadata": {
        "id": "2bj82RLeB9pN"
      },
      "outputs": [],
      "source": [
        "from scipy import stats"
      ]
    },
    {
      "cell_type": "code",
      "execution_count": null,
      "metadata": {
        "colab": {
          "base_uri": "https://localhost:8080/"
        },
        "id": "Dqb5gnh6B3Ty",
        "outputId": "ac37b503-299e-49ef-e11d-f39618e505cc"
      },
      "outputs": [
        {
          "data": {
            "text/plain": [
              "array([40650, 40812, 41300, 41450, 39594, 40734, 39993, 38814, 37828,\n",
              "       35716])"
            ]
          },
          "execution_count": 74,
          "metadata": {},
          "output_type": "execute_result"
        }
      ],
      "source": [
        "year_marr"
      ]
    },
    {
      "cell_type": "code",
      "execution_count": null,
      "metadata": {
        "colab": {
          "base_uri": "https://localhost:8080/",
          "height": 35
        },
        "id": "cH1vw80XC_Ee",
        "outputId": "326c58de-e03f-4a23-ca8c-9ba16993757d"
      },
      "outputs": [
        {
          "data": {
            "application/vnd.google.colaboratory.intrinsic+json": {
              "type": "string"
            },
            "text/plain": [
              "'Median:[40650 40812 41300 41450 39594 40734 39993 38814 37828 35716]'"
            ]
          },
          "execution_count": 75,
          "metadata": {},
          "output_type": "execute_result"
        }
      ],
      "source": [
        "f\"Median:{np.array(year_marr)}\""
      ]
    },
    {
      "cell_type": "code",
      "execution_count": null,
      "metadata": {
        "id": "Kc0kCN92DIti"
      },
      "outputs": [],
      "source": []
    },
    {
      "cell_type": "code",
      "execution_count": null,
      "metadata": {
        "id": "2pls76wvF95P"
      },
      "outputs": [],
      "source": [
        "# determine the median from the data set...\n",
        "data_dt = ([22, 56, 11, 4, -17, 6, 80])\n",
        "data_dt = np.array(data_dt)\n",
        "f\"Median:{np.median(data_dt)}\""
      ]
    },
    {
      "cell_type": "code",
      "execution_count": null,
      "metadata": {
        "id": "RgKvPMRIF98a"
      },
      "outputs": [],
      "source": []
    },
    {
      "cell_type": "code",
      "execution_count": null,
      "metadata": {
        "id": "DgkI3Gca9yCV"
      },
      "outputs": [],
      "source": [
        "year_marr ="
      ]
    },
    {
      "cell_type": "code",
      "execution_count": null,
      "metadata": {
        "colab": {
          "base_uri": "https://localhost:8080/",
          "height": 193
        },
        "id": "-wBHPmYdEZyy",
        "outputId": "dff0c9b8-f6e1-4d06-ea1c-bbefbb477080"
      },
      "outputs": [
        {
          "ename": "NameError",
          "evalue": "name 'np' is not defined",
          "output_type": "error",
          "traceback": [
            "\u001b[0;31m---------------------------------------------------------------------------\u001b[0m",
            "\u001b[0;31mNameError\u001b[0m                                 Traceback (most recent call last)",
            "\u001b[0;32m<ipython-input-1-c50b0704d6d0>\u001b[0m in \u001b[0;36m<cell line: 3>\u001b[0;34m()\u001b[0m\n\u001b[1;32m      1\u001b[0m \u001b[0;31m# assignment for determining the median value for the marriages..\u001b[0m\u001b[0;34m\u001b[0m\u001b[0;34m\u001b[0m\u001b[0m\n\u001b[1;32m      2\u001b[0m \u001b[0myear_marr\u001b[0m \u001b[0;34m=\u001b[0m \u001b[0;34m(\u001b[0m\u001b[0;34m[\u001b[0m\u001b[0;36m40650\u001b[0m\u001b[0;34m,\u001b[0m \u001b[0;36m40812\u001b[0m\u001b[0;34m,\u001b[0m \u001b[0;36m41300\u001b[0m\u001b[0;34m,\u001b[0m \u001b[0;36m41450\u001b[0m\u001b[0;34m,\u001b[0m \u001b[0;36m39594\u001b[0m\u001b[0;34m,\u001b[0m \u001b[0;36m40734\u001b[0m\u001b[0;34m,\u001b[0m \u001b[0;36m39993\u001b[0m\u001b[0;34m,\u001b[0m \u001b[0;36m38814\u001b[0m\u001b[0;34m,\u001b[0m \u001b[0;36m37828\u001b[0m\u001b[0;34m,\u001b[0m \u001b[0;36m35716\u001b[0m\u001b[0;34m]\u001b[0m\u001b[0;34m)\u001b[0m\u001b[0;34m\u001b[0m\u001b[0;34m\u001b[0m\u001b[0m\n\u001b[0;32m----> 3\u001b[0;31m \u001b[0mmedian_marr\u001b[0m \u001b[0;34m=\u001b[0m \u001b[0mnp\u001b[0m\u001b[0;34m.\u001b[0m\u001b[0marray\u001b[0m\u001b[0;34m(\u001b[0m\u001b[0myear_marr\u001b[0m\u001b[0;34m)\u001b[0m\u001b[0;34m\u001b[0m\u001b[0;34m\u001b[0m\u001b[0m\n\u001b[0m\u001b[1;32m      4\u001b[0m \u001b[0mmedian_marr\u001b[0m\u001b[0;34m\u001b[0m\u001b[0;34m\u001b[0m\u001b[0m\n",
            "\u001b[0;31mNameError\u001b[0m: name 'np' is not defined"
          ]
        }
      ],
      "source": [
        "# assignment for determining the median value for the marriages..\n",
        "year_marr = ([40650, 40812, 41300, 41450, 39594, 40734, 39993, 38814, 37828, 35716])\n",
        "median_marr = np.array(year_marr)\n",
        "median_marr"
      ]
    },
    {
      "cell_type": "code",
      "execution_count": null,
      "metadata": {
        "colab": {
          "base_uri": "https://localhost:8080/",
          "height": 35
        },
        "id": "IwK_i8noEZ2Y",
        "outputId": "0897654e-1a5d-40cf-e58c-96d310384709"
      },
      "outputs": [
        {
          "data": {
            "application/vnd.google.colaboratory.intrinsic+json": {
              "type": "string"
            },
            "text/plain": [
              "'Median:[40650 40812 41300 41450 39594 40734 39993 38814 37828 35716]'"
            ]
          },
          "execution_count": 69,
          "metadata": {},
          "output_type": "execute_result"
        }
      ],
      "source": [
        "f\"Median:{np.array(median_marr)}\""
      ]
    },
    {
      "cell_type": "code",
      "execution_count": null,
      "metadata": {
        "colab": {
          "base_uri": "https://localhost:8080/",
          "height": 106
        },
        "id": "u9ok2Bf1Ewof",
        "outputId": "96d434ce-8b62-40ac-c377-f1b8d35256b9"
      },
      "outputs": [
        {
          "ename": "SyntaxError",
          "evalue": "unmatched ')' (<ipython-input-70-071d7d6b3c5e>, line 1)",
          "output_type": "error",
          "traceback": [
            "\u001b[0;36m  File \u001b[0;32m\"<ipython-input-70-071d7d6b3c5e>\"\u001b[0;36m, line \u001b[0;32m1\u001b[0m\n\u001b[0;31m    f\"The median number of marriages over the 10-year period is {median_marr}\")\u001b[0m\n\u001b[0m                                                                              ^\u001b[0m\n\u001b[0;31mSyntaxError\u001b[0m\u001b[0;31m:\u001b[0m unmatched ')'\n"
          ]
        }
      ],
      "source": [
        "f\"The median number of marriages over the 10-year period is {median_marr}\")"
      ]
    },
    {
      "cell_type": "code",
      "execution_count": null,
      "metadata": {
        "id": "tuaL4fvpEwro"
      },
      "outputs": [],
      "source": []
    },
    {
      "cell_type": "code",
      "execution_count": null,
      "metadata": {
        "id": "V8xoS3J4dPcx"
      },
      "outputs": [],
      "source": []
    },
    {
      "cell_type": "code",
      "execution_count": null,
      "metadata": {
        "id": "3bEh7TxUfewE"
      },
      "outputs": [],
      "source": []
    },
    {
      "cell_type": "markdown",
      "metadata": {
        "id": "d6urJoZCfe6x"
      },
      "source": [
        "**Studying through calculating the IQR in a given data_set..**"
      ]
    },
    {
      "cell_type": "code",
      "execution_count": null,
      "metadata": {
        "colab": {
          "base_uri": "https://localhost:8080/"
        },
        "id": "eoncoCoDcEyN",
        "outputId": "b803f2bb-c6f8-4a4f-8c18-54501d783f33"
      },
      "outputs": [
        {
          "data": {
            "text/plain": [
              "[3, 5, 8, 12, 15, 18, 20, 22, 25, 30, 50, 80, 687]"
            ]
          },
          "execution_count": 2,
          "metadata": {},
          "output_type": "execute_result"
        }
      ],
      "source": [
        "# calculating the IQR given a data set..\n",
        "x = [38, 25, 48, 12, 25, 18, 20, 22, 28, 34, 50, 80, 687]\n",
        "x"
      ]
    },
    {
      "cell_type": "code",
      "execution_count": null,
      "metadata": {
        "colab": {
          "base_uri": "https://localhost:8080/"
        },
        "id": "NqOfnV-gcE1Q",
        "outputId": "036451dc-ab37-42dc-e099-1f3a302752a0"
      },
      "outputs": [
        {
          "data": {
            "text/plain": [
              "[3, 5, 8, 12, 15, 18, 20, 22, 25, 30, 50, 80, 687]"
            ]
          },
          "execution_count": 4,
          "metadata": {},
          "output_type": "execute_result"
        }
      ],
      "source": [
        "# sorting the data with an ascending order..\n",
        "data = sorted(x)\n",
        "data"
      ]
    },
    {
      "cell_type": "code",
      "execution_count": null,
      "metadata": {
        "colab": {
          "base_uri": "https://localhost:8080/"
        },
        "id": "efihLG_PdTt1",
        "outputId": "0e513cd2-302a-432e-fe75-ff90020a37f4"
      },
      "outputs": [
        {
          "data": {
            "text/plain": [
              "13"
            ]
          },
          "execution_count": 7,
          "metadata": {},
          "output_type": "execute_result"
        }
      ],
      "source": [
        "len(data)"
      ]
    },
    {
      "cell_type": "code",
      "execution_count": null,
      "metadata": {
        "colab": {
          "base_uri": "https://localhost:8080/"
        },
        "id": "ZR_SwEJ6cE4F",
        "outputId": "85fc7498-f914-4455-cbf1-aeaae7b6343e"
      },
      "outputs": [
        {
          "data": {
            "text/plain": [
              "12"
            ]
          },
          "execution_count": 6,
          "metadata": {},
          "output_type": "execute_result"
        }
      ],
      "source": [
        "distance = len(data) - 1 # checks the distance between the first and the last element\n",
        "distance"
      ]
    },
    {
      "cell_type": "code",
      "execution_count": null,
      "metadata": {
        "colab": {
          "base_uri": "https://localhost:8080/"
        },
        "id": "h1qx5E4ocE6i",
        "outputId": "d5b7268f-ec78-4e88-b632-33fb4f2981b5"
      },
      "outputs": [
        {
          "data": {
            "text/plain": [
              "3.0"
            ]
          },
          "execution_count": 9,
          "metadata": {},
          "output_type": "execute_result"
        }
      ],
      "source": [
        "index_p25 = 0.25 * distance\n",
        "index_p25"
      ]
    },
    {
      "cell_type": "code",
      "execution_count": null,
      "metadata": {
        "colab": {
          "base_uri": "https://localhost:8080/"
        },
        "id": "SyA1XeyWdfcW",
        "outputId": "f896eadb-c5e6-4df2-d419-f68b2382a31a"
      },
      "outputs": [
        {
          "data": {
            "text/plain": [
              "9.0"
            ]
          },
          "execution_count": 13,
          "metadata": {},
          "output_type": "execute_result"
        }
      ],
      "source": [
        "index_p75 = 0.75 * distance\n",
        "index_p75"
      ]
    },
    {
      "cell_type": "code",
      "execution_count": null,
      "metadata": {
        "colab": {
          "base_uri": "https://localhost:8080/"
        },
        "id": "d4YwKXx-dilK",
        "outputId": "024efea0-fc16-460a-8e2d-a34091ea28ed"
      },
      "outputs": [
        {
          "data": {
            "text/plain": [
              "12"
            ]
          },
          "execution_count": 18,
          "metadata": {},
          "output_type": "execute_result"
        }
      ],
      "source": [
        "# the line of code determines the 25th percentiles\n",
        "p_25 = data [int(index_p25)]\n",
        "p_25"
      ]
    },
    {
      "cell_type": "code",
      "execution_count": null,
      "metadata": {
        "colab": {
          "base_uri": "https://localhost:8080/"
        },
        "id": "WZiwQ55HdioA",
        "outputId": "db50dff0-ec5f-40d2-ac99-08cf89f28ab8"
      },
      "outputs": [
        {
          "data": {
            "text/plain": [
              "30"
            ]
          },
          "execution_count": 21,
          "metadata": {},
          "output_type": "execute_result"
        }
      ],
      "source": [
        "# the line of code determines the 75th percentile\n",
        "p_75 = data[int(index_p75)]\n",
        "p_75"
      ]
    },
    {
      "cell_type": "code",
      "execution_count": null,
      "metadata": {
        "colab": {
          "base_uri": "https://localhost:8080/"
        },
        "id": "k8B-KE9qdirJ",
        "outputId": "e03e06ad-db38-4773-849c-28db516ac6b7"
      },
      "outputs": [
        {
          "data": {
            "text/plain": [
              "18"
            ]
          },
          "execution_count": 24,
          "metadata": {},
          "output_type": "execute_result"
        }
      ],
      "source": [
        "# to determine the IQR .. subtract the 25th percentile from the 75th percentile..\n",
        "IQR = p_75 - p_25\n",
        "IQR"
      ]
    },
    {
      "cell_type": "code",
      "execution_count": null,
      "metadata": {
        "id": "Im-0vQssfJom"
      },
      "outputs": [],
      "source": []
    },
    {
      "cell_type": "code",
      "execution_count": null,
      "metadata": {
        "id": "1SU5yjBtf_vo"
      },
      "outputs": [],
      "source": [
        "import pandas as pd\n",
        "import numpy as np\n",
        "import matplotlib.pyplot as plt\n",
        "import seaborn as sns"
      ]
    },
    {
      "cell_type": "code",
      "execution_count": null,
      "metadata": {
        "colab": {
          "base_uri": "https://localhost:8080/",
          "height": 452
        },
        "id": "9Uu5duNIf_z_",
        "outputId": "bdaf5e45-69d3-4cf6-b453-593236afffc8"
      },
      "outputs": [
        {
          "data": {
            "image/png": "[encoded data removed]",
            "text/plain": [
              "<Figure size 640x480 with 1 Axes>"
            ]
          },
          "metadata": {},
          "output_type": "display_data"
        }
      ],
      "source": [
        "# data visualization using the data_set above.. (data)\n",
        "# box.plot() identifies an outlier then gives the 1st, 2nd and 3rd interquatile range\n",
        "plt.boxplot(data)\n",
        "plt.title(\"Sample of data_visualization using box_plot\")\n",
        "plt.show()"
      ]
    },
    {
      "cell_type": "code",
      "execution_count": null,
      "metadata": {
        "id": "Tw3PFvNPf_6O"
      },
      "outputs": [],
      "source": []
    },
    {
      "cell_type": "code",
      "execution_count": null,
      "metadata": {
        "id": "nploCbMRibsp"
      },
      "outputs": [],
      "source": []
    },
    {
      "cell_type": "code",
      "execution_count": null,
      "metadata": {
        "id": "IKcVAfr1ibwF"
      },
      "outputs": [],
      "source": []
    },
    {
      "cell_type": "code",
      "execution_count": null,
      "metadata": {
        "colab": {
          "base_uri": "https://localhost:8080/"
        },
        "id": "o4fq-hFdfJu-",
        "outputId": "dd05bb97-a6f7-471c-c9ac-ba3b389e095c"
      },
      "outputs": [
        {
          "name": "stdout",
          "output_type": "stream",
          "text": [
            "   values\n",
            "7    1000\n"
          ]
        }
      ],
      "source": [
        "import pandas as pd\n",
        "# main emphasis is on pandas for data visualization\n",
        "# Sample data\n",
        "data = {'values': [10, 12, 12, 13, 12, 11, 12, 1000, 12, 11, 14]}\n",
        "df = pd.DataFrame(data)\n",
        "\n",
        "# Calculate Q1 (25th percentile) and Q3 (75th percentile)\n",
        "Q1 = df['values'].quantile(0.25)\n",
        "Q3 = df['values'].quantile(0.75)\n",
        "IQR = Q3 - Q1\n",
        "\n",
        "# Identify outliers\n",
        "outliers = df[(df['values'] < (Q1 - 1.5 * IQR)) | (df['values'] > (Q3 + 1.5 * IQR))]\n",
        "print(outliers)"
      ]
    },
    {
      "cell_type": "code",
      "execution_count": null,
      "metadata": {
        "id": "_pyvyVAqiQJu"
      },
      "outputs": [],
      "source": []
    }
  ],
  "metadata": {
    "colab": {
      "authorship_tag": "ABX9TyOuSRH3mOfR24VWm/W/L4bq",
      "include_colab_link": true,
      "provenance": []
    },
    "kernelspec": {
      "display_name": "Python 3",
      "name": "python3"
    },
    "language_info": {
      "name": "python"
    }
  },
  "nbformat": 4,
  "nbformat_minor": 0
}
