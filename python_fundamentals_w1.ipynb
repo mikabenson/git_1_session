{
  "cells": [
    {
      "cell_type": "markdown",
      "metadata": {
        "colab_type": "text",
        "id": "view-in-github"
      },
      "source": [
        "<a href=\"https://colab.research.google.com/github/Mikabenson-ml/git_practice_1/blob/main/python_fund_W1.ipynb\" target=\"_parent\"><img src=\"https://colab.research.google.com/assets/colab-badge.svg\" alt=\"Open In Colab\"/></a>"
      ]
    },
    {
      "cell_type": "code",
      "execution_count": null,
      "metadata": {
        "id": "C_PIm5p0GQBa"
      },
      "outputs": [],
      "source": [
        "print (\"variable is a piece of data that can be modified.\")"
      ]
    },
    {
      "cell_type": "code",
      "execution_count": null,
      "metadata": {
        "colab": {
          "base_uri": "https://localhost:8080/"
        },
        "id": "XbhAQtZgGVUV",
        "outputId": "75367871-984c-4dfd-d23e-a3d99c9b2b9c"
      },
      "outputs": [
        {
          "name": "stdout",
          "output_type": "stream",
          "text": [
            "Hello, World!\n"
          ]
        }
      ],
      "source": [
        "print (\"Hello, World!\")"
      ]
    },
    {
      "cell_type": "code",
      "execution_count": null,
      "metadata": {
        "id": "jiufHn6LMH5m"
      },
      "outputs": [],
      "source": []
    },
    {
      "cell_type": "markdown",
      "metadata": {
        "id": "aF3ar6N_Mh2a"
      },
      "source": [
        "# Introduction to colab for data science and machine **learning**"
      ]
    },
    {
      "cell_type": "code",
      "execution_count": null,
      "metadata": {
        "colab": {
          "base_uri": "https://localhost:8080/"
        },
        "id": "ItryWfUHMpvM",
        "outputId": "402b9f10-2891-40e9-c509-7a926366ee2a"
      },
      "outputs": [
        {
          "data": {
            "text/plain": [
              "float"
            ]
          },
          "execution_count": 2,
          "metadata": {},
          "output_type": "execute_result"
        }
      ],
      "source": [
        "x = 2.5\n",
        "type (x)"
      ]
    },
    {
      "cell_type": "code",
      "execution_count": null,
      "metadata": {
        "colab": {
          "base_uri": "https://localhost:8080/"
        },
        "id": "fPTzKzFTlbvY",
        "outputId": "4463c448-819e-4633-ceea-73e007851051"
      },
      "outputs": [
        {
          "data": {
            "text/plain": [
              "complex"
            ]
          },
          "execution_count": 10,
          "metadata": {},
          "output_type": "execute_result"
        }
      ],
      "source": [
        "y = 10 + 5j\n",
        "y\n",
        "type(y)"
      ]
    },
    {
      "cell_type": "code",
      "execution_count": null,
      "metadata": {
        "id": "eaR43pzzMviU"
      },
      "outputs": [],
      "source": [
        "import pandas as pd\n",
        "import numpy as np\n",
        "import tensorflow as tf\n",
        "import matplotlib.pyplot as plt\n",
        "import torch"
      ]
    },
    {
      "cell_type": "code",
      "execution_count": null,
      "metadata": {
        "colab": {
          "base_uri": "https://localhost:8080/"
        },
        "id": "2E2p3q5bQLB5",
        "outputId": "cc6e4109-ab67-4581-c74f-b1cd04bf674f"
      },
      "outputs": [
        {
          "name": "stdout",
          "output_type": "stream",
          "text": [
            "2.15.0\n"
          ]
        }
      ],
      "source": [
        "print (tf.__version__ )"
      ]
    },
    {
      "cell_type": "code",
      "execution_count": null,
      "metadata": {
        "colab": {
          "base_uri": "https://localhost:8080/"
        },
        "id": "A2Z6IO4FQVTu",
        "outputId": "58d9b920-b202-4d35-9eca-a39216aaa37b"
      },
      "outputs": [
        {
          "name": "stdout",
          "output_type": "stream",
          "text": [
            "2.0.3\n",
            "1.25.2\n"
          ]
        }
      ],
      "source": [
        "print (pd. __version__)\n",
        "print (np. __version__)"
      ]
    },
    {
      "cell_type": "code",
      "execution_count": null,
      "metadata": {
        "id": "6GbUipLoQkmZ"
      },
      "outputs": [],
      "source": []
    },
    {
      "cell_type": "code",
      "execution_count": null,
      "metadata": {
        "colab": {
          "base_uri": "https://localhost:8080/"
        },
        "id": "_N2Qs5FhA9wX",
        "outputId": "f16ffc61-5abf-4475-a549-40c5cca64836"
      },
      "outputs": [
        {
          "name": "stdout",
          "output_type": "stream",
          "text": [
            "Index: 0, Fruit: apple\n",
            "Index: 1, Fruit: banana\n",
            "Index: 2, Fruit: cherry\n"
          ]
        }
      ],
      "source": [
        "my_array = [\"apple\", \"banana\", \"cherry\"]\n",
        "for index, fruit in enumerate(my_array):\n",
        "  print(f\"Index: {index}, Fruit: {fruit}\")"
      ]
    },
    {
      "cell_type": "code",
      "execution_count": null,
      "metadata": {
        "colab": {
          "base_uri": "https://localhost:8080/"
        },
        "id": "r7QhSUMyA9zr",
        "outputId": "d914e6c6-2109-4ba4-c746-98235b6c4fb7"
      },
      "outputs": [
        {
          "data": {
            "text/plain": [
              "4"
            ]
          },
          "execution_count": 1,
          "metadata": {},
          "output_type": "execute_result"
        }
      ],
      "source": [
        "x = [1, 2, 3, 4]\n",
        "x.pop()"
      ]
    },
    {
      "cell_type": "code",
      "execution_count": null,
      "metadata": {
        "colab": {
          "base_uri": "https://localhost:8080/"
        },
        "id": "X950NglQIr48",
        "outputId": "d07a0f76-988b-4c24-cc35-163a7e85d90f"
      },
      "outputs": [
        {
          "name": "stdout",
          "output_type": "stream",
          "text": [
            "color: blue\n",
            "number: 6\n"
          ]
        }
      ],
      "source": [
        "x = {\"color\": \"blue\", \"number\": 6}\n",
        "for key in x.keys():\n",
        "    print(\"{}: {}\".format(key, x[key]))"
      ]
    },
    {
      "cell_type": "code",
      "execution_count": null,
      "metadata": {
        "colab": {
          "base_uri": "https://localhost:8080/"
        },
        "id": "ieJdzH0LFUrI",
        "outputId": "0bfaf70e-5cf2-4df7-bd9c-da1e699a8758"
      },
      "outputs": [
        {
          "name": "stdout",
          "output_type": "stream",
          "text": [
            "2\n",
            "3\n",
            "4\n",
            "5\n",
            "6\n",
            "7\n"
          ]
        }
      ],
      "source": [
        "for x in range(6):\n",
        "    print(x + 2)"
      ]
    },
    {
      "cell_type": "code",
      "execution_count": null,
      "metadata": {
        "colab": {
          "base_uri": "https://localhost:8080/"
        },
        "id": "GOd-ZKShFUuo",
        "outputId": "68750169-5097-4d1c-dd8c-1aa3912e4f27"
      },
      "outputs": [
        {
          "name": "stdout",
          "output_type": "stream",
          "text": [
            "Buzz\n"
          ]
        }
      ],
      "source": [
        "x = 7\n",
        "if (x % 3 == 0) and (x % 5 == 0):\n",
        "    print(\"FizzBuzz\")\n",
        "elif x % 3 == 0:\n",
        "    print(\"Fizz\")\n",
        "elif x % 1 == 0:\n",
        "    print(\"Buzz\")\n",
        "else:\n",
        "    print(x)"
      ]
    },
    {
      "cell_type": "code",
      "execution_count": null,
      "metadata": {
        "colab": {
          "base_uri": "https://localhost:8080/",
          "height": 35
        },
        "id": "Ls92eLp3FUxH",
        "outputId": "262042d5-b2af-4a83-bec2-a1086ab0ae42"
      },
      "outputs": [
        {
          "data": {
            "application/vnd.google.colaboratory.intrinsic+json": {
              "type": "string"
            },
            "text/plain": [
              "'orange'"
            ]
          },
          "execution_count": 8,
          "metadata": {},
          "output_type": "execute_result"
        }
      ],
      "source": [
        "x = None\n",
        "colors = [\"blue\", \"orange\", \"green\"]\n",
        "for color in colors:\n",
        "    if color.startswith(\"o\"):\n",
        "        x = color\n",
        "x"
      ]
    },
    {
      "cell_type": "code",
      "execution_count": null,
      "metadata": {
        "id": "7Km0GpuMGjPC"
      },
      "outputs": [],
      "source": []
    },
    {
      "cell_type": "code",
      "execution_count": null,
      "metadata": {
        "colab": {
          "base_uri": "https://localhost:8080/"
        },
        "id": "gzW2RjoYHbLN",
        "outputId": "8b926fe2-55b8-42be-fc3c-c3d9937ab629"
      },
      "outputs": [
        {
          "name": "stdout",
          "output_type": "stream",
          "text": [
            "blue\n"
          ]
        }
      ],
      "source": [
        "def red():\n",
        "    return \"red\"\n",
        "\n",
        "def green():\n",
        "    return \"green\"\n",
        "\n",
        "def blue():\n",
        "    print(\"blue\")\n",
        "\n",
        "x = [red(), green(), blue()]"
      ]
    },
    {
      "cell_type": "code",
      "execution_count": null,
      "metadata": {
        "id": "wHCH8MH3HbOe"
      },
      "outputs": [],
      "source": []
    },
    {
      "cell_type": "code",
      "execution_count": null,
      "metadata": {
        "colab": {
          "base_uri": "https://localhost:8080/",
          "height": 35
        },
        "id": "eYYDQ4hAHbSW",
        "outputId": "98ac733f-94fe-4d9d-acb4-419339460206"
      },
      "outputs": [
        {
          "data": {
            "application/vnd.google.colaboratory.intrinsic+json": {
              "type": "string"
            },
            "text/plain": [
              "'!'"
            ]
          },
          "execution_count": 11,
          "metadata": {},
          "output_type": "execute_result"
        }
      ],
      "source": [
        "x = \"Hello, World!\"[-1]\n",
        "x"
      ]
    },
    {
      "cell_type": "code",
      "execution_count": null,
      "metadata": {
        "colab": {
          "base_uri": "https://localhost:8080/"
        },
        "id": "O5d5mo4wGjR5",
        "outputId": "8b43cba7-9c8c-4179-ce25-ad3ad7d7fc55"
      },
      "outputs": [
        {
          "data": {
            "text/plain": [
              "3"
            ]
          },
          "execution_count": 13,
          "metadata": {},
          "output_type": "execute_result"
        }
      ],
      "source": [
        "b = [2, 3, 4, 5]\n",
        "x = b[1]\n",
        "x"
      ]
    },
    {
      "cell_type": "code",
      "execution_count": null,
      "metadata": {
        "id": "InWPwwahMWM4"
      },
      "outputs": [],
      "source": []
    },
    {
      "cell_type": "code",
      "execution_count": null,
      "metadata": {
        "colab": {
          "base_uri": "https://localhost:8080/"
        },
        "id": "NODGltWWMWP3",
        "outputId": "89e78f7c-39f4-4422-86b4-d0b9ffa01cf3"
      },
      "outputs": [
        {
          "data": {
            "text/plain": [
              "7"
            ]
          },
          "execution_count": 14,
          "metadata": {},
          "output_type": "execute_result"
        }
      ],
      "source": [
        "x = len([\"a\", \"b\", \"c\", \"d\", \"e\", \"f\", \"g\"])\n",
        "x"
      ]
    },
    {
      "cell_type": "code",
      "execution_count": null,
      "metadata": {
        "id": "Sq-_3mZRMWSp"
      },
      "outputs": [],
      "source": []
    },
    {
      "cell_type": "code",
      "execution_count": null,
      "metadata": {
        "colab": {
          "base_uri": "https://localhost:8080/"
        },
        "id": "C8wR4HstNXRY",
        "outputId": "b8fc5de6-7d96-4f11-e19e-8fa31cb26598"
      },
      "outputs": [
        {
          "name": "stdout",
          "output_type": "stream",
          "text": [
            "Object `expression` not found.\n"
          ]
        },
        {
          "data": {
            "text/plain": [
              "False"
            ]
          },
          "execution_count": 15,
          "metadata": {},
          "output_type": "execute_result"
        }
      ],
      "source": [
        "# What is the result of the following expression?\n",
        "\"def\" in [\"a\", \"b\", \"c\", \"d\", \"e\", \"f\"]"
      ]
    },
    {
      "cell_type": "code",
      "execution_count": null,
      "metadata": {
        "id": "Rch-HLq-NXUY"
      },
      "outputs": [],
      "source": []
    },
    {
      "cell_type": "code",
      "execution_count": null,
      "metadata": {
        "colab": {
          "base_uri": "https://localhost:8080/"
        },
        "id": "qQKnFovKNXY_",
        "outputId": "7a67e9ab-2129-4342-b337-eb86bb662e48"
      },
      "outputs": [
        {
          "name": "stdout",
          "output_type": "stream",
          "text": [
            "7\n"
          ]
        }
      ],
      "source": [
        "x = 7\n",
        "if (x % 3 == 0) and (x % 5 == 0):\n",
        "    print(\"FizzBuzz\")\n",
        "elif x % 3 == 0:\n",
        "    print(\"Fizz\")\n",
        "elif x % 5 == 0:\n",
        "    print(\"Buzz\")\n",
        "else:\n",
        "    print(x)"
      ]
    },
    {
      "cell_type": "code",
      "execution_count": null,
      "metadata": {
        "id": "fuY6b1JkMWVw"
      },
      "outputs": [],
      "source": []
    },
    {
      "cell_type": "code",
      "execution_count": null,
      "metadata": {
        "colab": {
          "base_uri": "https://localhost:8080/"
        },
        "id": "btafrhbjNkBH",
        "outputId": "9efda9b7-0487-49f8-dd04-42d063de4319"
      },
      "outputs": [
        {
          "name": "stdout",
          "output_type": "stream",
          "text": [
            "index: 0, value: 5\n",
            "index: 1, value: 4\n",
            "index: 2, value: 3\n",
            "index: 3, value: 2\n"
          ]
        }
      ],
      "source": [
        "x = [5, 4, 3, 2]\n",
        "for index in range(len(x)):\n",
        "    print(\"index: {}, value: {}\".format(index, x[index]))"
      ]
    },
    {
      "cell_type": "code",
      "execution_count": null,
      "metadata": {
        "id": "Bdp-QxPZNkFp"
      },
      "outputs": [],
      "source": []
    },
    {
      "cell_type": "code",
      "execution_count": null,
      "metadata": {
        "colab": {
          "base_uri": "https://localhost:8080/"
        },
        "id": "rarz4_bVNkJ_",
        "outputId": "1aa791ff-d914-45e7-bbf2-d0f1613a0585"
      },
      "outputs": [
        {
          "name": "stdout",
          "output_type": "stream",
          "text": [
            "['blue', 'green', 'red', 'orange', 'green', 'yellow']\n"
          ]
        }
      ],
      "source": [
        "# Which of the following code snippets will print a list of all unique colors in the dataset?\n",
        "data = [\n",
        "    {\"color\": \"blue\", \"number\": 64},\n",
        "    {\"color\": \"green\", \"number\": 710},\n",
        "    {\"color\": \"red\", \"number\": 17},\n",
        "    {\"color\": \"orange\", \"number\": 110},\n",
        "    {\"color\": \"green\", \"number\": 49},\n",
        "    {\"color\": \"yellow\", \"number\": 63}]\n",
        "\n",
        "\n",
        "colors = []\n",
        "for element in data:\n",
        "    colors.append(element[\"color\"])\n",
        "print(colors)\n"
      ]
    },
    {
      "cell_type": "code",
      "execution_count": null,
      "metadata": {
        "id": "_jVf6vugNkO0"
      },
      "outputs": [],
      "source": []
    },
    {
      "cell_type": "code",
      "execution_count": null,
      "metadata": {
        "colab": {
          "base_uri": "https://localhost:8080/"
        },
        "id": "q1t9lHZxPElU",
        "outputId": "03a830d5-42b7-4318-afd0-fee6de6eda90"
      },
      "outputs": [
        {
          "name": "stdout",
          "output_type": "stream",
          "text": [
            "one\n",
            "three\n"
          ]
        }
      ],
      "source": [
        "def one():\n",
        "    print(\"one\")\n",
        "\n",
        "def two():\n",
        "    return \"two\"\n",
        "\n",
        "def three():\n",
        "    one()\n",
        "    two()\n",
        "    print(\"three\")\n",
        "\n",
        "three()"
      ]
    },
    {
      "cell_type": "code",
      "execution_count": null,
      "metadata": {
        "id": "cyhznyGwPEpr"
      },
      "outputs": [],
      "source": []
    },
    {
      "cell_type": "code",
      "execution_count": null,
      "metadata": {
        "colab": {
          "base_uri": "https://localhost:8080/"
        },
        "id": "kIQSIVn4PEtD",
        "outputId": "47592b63-31f8-4f18-f313-b0242088be82"
      },
      "outputs": [
        {
          "data": {
            "text/html": [
              "<div style=\"max-width:800px; border: 1px solid var(--colab-border-color);\"><style>\n",
              "      pre.function-repr-contents {\n",
              "        overflow-x: auto;\n",
              "        padding: 8px 12px;\n",
              "        max-height: 500px;\n",
              "      }\n",
              "\n",
              "      pre.function-repr-contents.function-repr-contents-collapsed {\n",
              "        cursor: pointer;\n",
              "        max-height: 100px;\n",
              "      }\n",
              "    </style>\n",
              "    <pre style=\"white-space: initial; background:\n",
              "         var(--colab-secondary-surface-color); padding: 8px 12px;\n",
              "         border-bottom: 1px solid var(--colab-border-color);\"><b>upper_slice</b><br/>def upper_slice(text, number)</pre><pre class=\"function-repr-contents function-repr-contents-collapsed\" style=\"\"><a class=\"filepath\" style=\"display:none\" href=\"#\">/content/&lt;ipython-input-24-e685f4d97df2&gt;</a>&lt;no docstring&gt;</pre></div>"
            ],
            "text/plain": [
              "<function __main__.upper_slice(text, number)>"
            ]
          },
          "execution_count": 24,
          "metadata": {},
          "output_type": "execute_result"
        }
      ],
      "source": [
        "# Sample input 1: 'Greetings', 5\n",
        "# Sample output 1: 'GREET'\n",
        "\n",
        "# Sample input 2: 'Hello, World!', 2\n",
        "# Sample output 2: 'HE'\n",
        "def upper_slice(text, number):\n",
        "    return text[:number].upper()\n",
        "upper_slice"
      ]
    },
    {
      "cell_type": "code",
      "execution_count": null,
      "metadata": {
        "id": "E1jfBuXxPZtv"
      },
      "outputs": [],
      "source": []
    },
    {
      "cell_type": "code",
      "execution_count": null,
      "metadata": {
        "id": "yJ0tfte-PZw4"
      },
      "outputs": [],
      "source": []
    },
    {
      "cell_type": "code",
      "execution_count": null,
      "metadata": {
        "id": "jftuN7CTPZzb"
      },
      "outputs": [],
      "source": []
    },
    {
      "cell_type": "code",
      "execution_count": null,
      "metadata": {
        "id": "MphowoeTPZ16"
      },
      "outputs": [],
      "source": []
    },
    {
      "cell_type": "code",
      "execution_count": null,
      "metadata": {
        "id": "ENlLpYhzPZ4r"
      },
      "outputs": [],
      "source": []
    },
    {
      "cell_type": "markdown",
      "metadata": {
        "id": "PK0QX6nrI2z6"
      },
      "source": [
        "**Introduction to variables.**.**bold text**\n",
        "Declaring variables with and without values.."
      ]
    },
    {
      "cell_type": "code",
      "execution_count": null,
      "metadata": {
        "colab": {
          "base_uri": "https://localhost:8080/",
          "height": 35
        },
        "id": "nCl2rlcnGiYo",
        "outputId": "8af1e57a-fcf7-4f9c-a5c4-7df6c41ae7e9"
      },
      "outputs": [
        {
          "data": {
            "application/vnd.google.colaboratory.intrinsic+json": {
              "type": "string"
            },
            "text/plain": [
              "'art.vandelay@vandelay.com'"
            ]
          },
          "execution_count": 7,
          "metadata": {},
          "output_type": "execute_result"
        }
      ],
      "source": [
        "# Lesson one: declaring and assigning variables..\n",
        "\n",
        "from typing_extensions import dataclass_transform\n",
        "email = \"art.vandelay@vandelay.com\"\n",
        "\n",
        "variable = dataclass_transform\n",
        "\n",
        "email"
      ]
    },
    {
      "cell_type": "code",
      "execution_count": null,
      "metadata": {
        "id": "FtW1W7loJDJq"
      },
      "outputs": [],
      "source": []
    },
    {
      "cell_type": "code",
      "execution_count": null,
      "metadata": {
        "colab": {
          "base_uri": "https://localhost:8080/",
          "height": 35
        },
        "id": "iKBMUOItGib7",
        "outputId": "835e73a0-93c7-42a5-9879-d2bde5233913"
      },
      "outputs": [
        {
          "data": {
            "application/vnd.google.colaboratory.intrinsic+json": {
              "type": "string"
            },
            "text/plain": [
              "'vandelay.com'"
            ]
          },
          "execution_count": 6,
          "metadata": {},
          "output_type": "execute_result"
        }
      ],
      "source": [
        "# case 2 trying with the website..\n",
        "\n",
        "website = \"vandelay.com\"\n",
        "\n",
        "website"
      ]
    },
    {
      "cell_type": "code",
      "execution_count": null,
      "metadata": {
        "colab": {
          "base_uri": "https://localhost:8080/",
          "height": 141
        },
        "id": "B2cW3oq9IJy7",
        "outputId": "67f4e980-17ba-467b-b1f7-fc7f44f8cadf"
      },
      "outputs": [
        {
          "ename": "NameError",
          "evalue": "name 'full_name' is not defined",
          "output_type": "error",
          "traceback": [
            "\u001b[0;31m---------------------------------------------------------------------------\u001b[0m",
            "\u001b[0;31mNameError\u001b[0m                                 Traceback (most recent call last)",
            "\u001b[0;32m<ipython-input-8-e1e889fa3b78>\u001b[0m in \u001b[0;36m<cell line: 1>\u001b[0;34m()\u001b[0m\n\u001b[0;32m----> 1\u001b[0;31m \u001b[0mfull_name\u001b[0m\u001b[0;34m\u001b[0m\u001b[0;34m\u001b[0m\u001b[0m\n\u001b[0m",
            "\u001b[0;31mNameError\u001b[0m: name 'full_name' is not defined"
          ]
        }
      ],
      "source": [
        "full_name"
      ]
    },
    {
      "cell_type": "code",
      "execution_count": null,
      "metadata": {
        "colab": {
          "base_uri": "https://localhost:8080/",
          "height": 35
        },
        "id": "UQGBKzbaJEqP",
        "outputId": "680e1aa9-cd5e-4b21-bf56-5e1e39507daf"
      },
      "outputs": [
        {
          "data": {
            "application/vnd.google.colaboratory.intrinsic+json": {
              "type": "string"
            },
            "text/plain": [
              "'Art Vandelay'"
            ]
          },
          "execution_count": 10,
          "metadata": {},
          "output_type": "execute_result"
        }
      ],
      "source": [
        "# case 3 declaring full_name the storing the data inside that variable then aslo returning the variable in the same lien.\n",
        "\n",
        "full_name = \"Art Vandelay\"\n",
        "full_name"
      ]
    },
    {
      "cell_type": "code",
      "execution_count": null,
      "metadata": {
        "id": "Ebc9-rawJEtK"
      },
      "outputs": [],
      "source": []
    },
    {
      "cell_type": "code",
      "execution_count": null,
      "metadata": {
        "colab": {
          "base_uri": "https://localhost:8080/",
          "height": 35
        },
        "id": "mI_94SByFLCR",
        "outputId": "2bfa6e23-33ed-41c8-d33f-1cf2a8a9e91a"
      },
      "outputs": [
        {
          "data": {
            "application/vnd.google.colaboratory.intrinsic+json": {
              "type": "string"
            },
            "text/plain": [
              "'January'"
            ]
          },
          "execution_count": 2,
          "metadata": {},
          "output_type": "execute_result"
        }
      ],
      "source": [
        "# colab test to be done..\n",
        "travel_month = \"January\"\n",
        "travel_month"
      ]
    },
    {
      "cell_type": "code",
      "execution_count": null,
      "metadata": {
        "colab": {
          "base_uri": "https://localhost:8080/",
          "height": 35
        },
        "id": "htoALdTuFLFe",
        "outputId": "e54528e7-d37a-453c-a08b-df0c510d7441"
      },
      "outputs": [
        {
          "data": {
            "application/vnd.google.colaboratory.intrinsic+json": {
              "type": "string"
            },
            "text/plain": [
              "'5'"
            ]
          },
          "execution_count": 4,
          "metadata": {},
          "output_type": "execute_result"
        }
      ],
      "source": [
        "number_of_weeks = \"5\"\n",
        "number_of_weeks"
      ]
    },
    {
      "cell_type": "code",
      "execution_count": null,
      "metadata": {
        "colab": {
          "base_uri": "https://localhost:8080/",
          "height": 35
        },
        "id": "zGUroenwFLIx",
        "outputId": "584d6922-1f24-419f-c460-8f2058b8dfb0"
      },
      "outputs": [
        {
          "data": {
            "application/vnd.google.colaboratory.intrinsic+json": {
              "type": "string"
            },
            "text/plain": [
              "'I will be traveling 5 starting in January'"
            ]
          },
          "execution_count": 5,
          "metadata": {},
          "output_type": "execute_result"
        }
      ],
      "source": [
        "f\"I will be traveling {number_of_weeks} starting in {travel_month}\""
      ]
    },
    {
      "cell_type": "code",
      "execution_count": null,
      "metadata": {
        "colab": {
          "base_uri": "https://localhost:8080/",
          "height": 35
        },
        "id": "GgHn5_kJJEwt",
        "outputId": "afa58a02-db35-473f-afef-73de9415281d"
      },
      "outputs": [
        {
          "data": {
            "application/vnd.google.colaboratory.intrinsic+json": {
              "type": "string"
            },
            "text/plain": [
              "'vandelay.com'"
            ]
          },
          "execution_count": 14,
          "metadata": {},
          "output_type": "execute_result"
        }
      ],
      "source": [
        "# This is the concept of assigning then reading the variable..\n",
        "email\n",
        "\n",
        "full_name\n",
        "\n",
        "website"
      ]
    },
    {
      "cell_type": "code",
      "execution_count": null,
      "metadata": {
        "id": "EdXAAemXKJBk"
      },
      "outputs": [],
      "source": []
    },
    {
      "cell_type": "code",
      "execution_count": null,
      "metadata": {
        "id": "GlYvn0lpKJEc"
      },
      "outputs": [],
      "source": [
        "# Lesson two: Declaring variables without assigning any value..\n",
        "\n",
        "# None data type is used..represents nothing, the absence of a value or null value.."
      ]
    },
    {
      "cell_type": "code",
      "execution_count": null,
      "metadata": {
        "colab": {
          "base_uri": "https://localhost:8080/"
        },
        "id": "3hdHBm2oN8wJ",
        "outputId": "063d209c-c711-4160-a9cb-807df1d37c82"
      },
      "outputs": [
        {
          "data": {
            "text/plain": [
              "NoneType"
            ]
          },
          "execution_count": 17,
          "metadata": {},
          "output_type": "execute_result"
        }
      ],
      "source": [
        "None\n",
        "\n",
        "type (None)"
      ]
    },
    {
      "cell_type": "code",
      "execution_count": null,
      "metadata": {
        "id": "WCSwpQYJN8y1"
      },
      "outputs": [],
      "source": [
        "value = None\n",
        "\n",
        "# the address variable is assigned but None which means there's no output\n",
        "address = None"
      ]
    },
    {
      "cell_type": "code",
      "execution_count": null,
      "metadata": {
        "id": "TD2S4uwNN81Q"
      },
      "outputs": [],
      "source": []
    },
    {
      "cell_type": "code",
      "execution_count": null,
      "metadata": {
        "colab": {
          "base_uri": "https://localhost:8080/",
          "height": 35
        },
        "id": "tzP0Z48KQm4P",
        "outputId": "f168f0f5-5eb2-4d82-a84a-f1a11cd3732d"
      },
      "outputs": [
        {
          "data": {
            "application/vnd.google.colaboratory.intrinsic+json": {
              "type": "string"
            },
            "text/plain": [
              "\"Send an email to Art Vandelay at 'art.vandelay@vandelay.com' to say how nice it was meeting yesterday.\""
            ]
          },
          "execution_count": 21,
          "metadata": {},
          "output_type": "execute_result"
        }
      ],
      "source": [
        "# Lesson three: Reassigning variables.\n",
        "\n",
        "# Reassigning variables means assigning new value to variable that already holds a value whihc allows the variables to be\n",
        "# flexible and reusable throughout the program..\n",
        "\n",
        "\"Send an email to Art Vandelay at 'art.vandelay@vandelay.com' to say how nice it was meeting yesterday.\""
      ]
    },
    {
      "cell_type": "code",
      "execution_count": null,
      "metadata": {
        "colab": {
          "base_uri": "https://localhost:8080/",
          "height": 35
        },
        "id": "0rYK701LQm7A",
        "outputId": "7283f71a-a371-42c7-acbb-fe2d47714951"
      },
      "outputs": [
        {
          "data": {
            "application/vnd.google.colaboratory.intrinsic+json": {
              "type": "string"
            },
            "text/plain": [
              "'Send an email to Art Vandelayatart.vandelay@vandelay.com to say it was nice meeting yesterday.'"
            ]
          },
          "execution_count": 22,
          "metadata": {},
          "output_type": "execute_result"
        }
      ],
      "source": [
        "# Reassigning the variable sending an email..\n",
        "\"Send an email to \"+ full_name + \"at\" + email + \" to say it was nice meeting yesterday.\""
      ]
    },
    {
      "cell_type": "code",
      "execution_count": null,
      "metadata": {
        "id": "VxqS1pxYKJHD"
      },
      "outputs": [],
      "source": []
    },
    {
      "cell_type": "code",
      "execution_count": null,
      "metadata": {
        "colab": {
          "base_uri": "https://localhost:8080/",
          "height": 35
        },
        "id": "aX4zQZLGUO6Z",
        "outputId": "a465638f-7955-48d8-a608-7280f83e2fda"
      },
      "outputs": [
        {
          "data": {
            "application/vnd.google.colaboratory.intrinsic+json": {
              "type": "string"
            },
            "text/plain": [
              "'Send an email to Liz KaplanatLiz@ka-plan.comto say it was nice meeting yesterday'"
            ]
          },
          "execution_count": 33,
          "metadata": {},
          "output_type": "execute_result"
        }
      ],
      "source": [
        "# Assignment..\n",
        "\n",
        "full_name = \"Liz Kaplan\"\n",
        "\n",
        "email = \"Liz@ka-plan.com\"\n",
        "\n",
        "\"Send an email to \"+ full_name + \"at\" + email + \"to say it was nice meeting yesterday\"\n",
        "\n",
        "# Good attempt of the assignment.."
      ]
    },
    {
      "cell_type": "code",
      "execution_count": null,
      "metadata": {
        "colab": {
          "base_uri": "https://localhost:8080/",
          "height": 35
        },
        "id": "c950vKqfUO9g",
        "outputId": "b323938f-ad3b-4a14-bf18-5fea51904231"
      },
      "outputs": [
        {
          "data": {
            "application/vnd.google.colaboratory.intrinsic+json": {
              "type": "string"
            },
            "text/plain": [
              "'Liz Kaplan'"
            ]
          },
          "execution_count": 31,
          "metadata": {},
          "output_type": "execute_result"
        }
      ],
      "source": [
        "# Procedural format of assigning and reassigning variables\n",
        "full_name"
      ]
    },
    {
      "cell_type": "code",
      "execution_count": null,
      "metadata": {
        "colab": {
          "base_uri": "https://localhost:8080/",
          "height": 35
        },
        "id": "zBQyaylzIJ1_",
        "outputId": "74d9f096-753e-4a64-b80e-9afb73e18b91"
      },
      "outputs": [
        {
          "data": {
            "application/vnd.google.colaboratory.intrinsic+json": {
              "type": "string"
            },
            "text/plain": [
              "'Liz@ka-plan.com'"
            ]
          },
          "execution_count": 30,
          "metadata": {},
          "output_type": "execute_result"
        }
      ],
      "source": [
        "email = \"Liz@ka-plan.com\"\n",
        "email"
      ]
    },
    {
      "cell_type": "code",
      "execution_count": null,
      "metadata": {
        "colab": {
          "base_uri": "https://localhost:8080/",
          "height": 35
        },
        "id": "SCSYSjYNVJfP",
        "outputId": "fc888c15-40a2-4df3-e020-50e3cb9aec3c"
      },
      "outputs": [
        {
          "data": {
            "application/vnd.google.colaboratory.intrinsic+json": {
              "type": "string"
            },
            "text/plain": [
              "'Send an email to Liz KaplanatLiz@ka-plan.comto say it was nice meeting yesterday.'"
            ]
          },
          "execution_count": 32,
          "metadata": {},
          "output_type": "execute_result"
        }
      ],
      "source": [
        "\"Send an email to \"+ full_name + \"at\" + email + \"to say it was nice meeting yesterday.\""
      ]
    },
    {
      "cell_type": "code",
      "execution_count": null,
      "metadata": {
        "id": "r_lSNgB9VxK2"
      },
      "outputs": [],
      "source": []
    },
    {
      "cell_type": "code",
      "execution_count": null,
      "metadata": {
        "id": "elYKcYjYkzzS"
      },
      "outputs": [],
      "source": []
    },
    {
      "cell_type": "markdown",
      "metadata": {
        "id": "KV8lkcpSk220"
      },
      "source": [
        "**Introduction to variables .. strings**\n",
        "string lab.."
      ]
    },
    {
      "cell_type": "code",
      "execution_count": null,
      "metadata": {
        "id": "hf2WNyk3kz2N"
      },
      "outputs": [],
      "source": [
        "# Programming is a powerfull too for answering questions about data which allows to collect, cleanup and format\n",
        "# data then perform calculations on the data.."
      ]
    },
    {
      "cell_type": "code",
      "execution_count": null,
      "metadata": {
        "id": "ZW0TMdEMkz4x"
      },
      "outputs": [],
      "source": [
        "# Strings .. are sequence of characters enclosed in either single, double or triple quotes.."
      ]
    },
    {
      "cell_type": "code",
      "execution_count": null,
      "metadata": {
        "colab": {
          "base_uri": "https://localhost:8080/"
        },
        "id": "YPC0CsFjkz75",
        "outputId": "87d399b8-90aa-4f8a-d9fa-c116621e675f"
      },
      "outputs": [
        {
          "data": {
            "text/plain": [
              "str"
            ]
          },
          "execution_count": 3,
          "metadata": {},
          "output_type": "execute_result"
        }
      ],
      "source": [
        "# consider \"Homer Simpsons\" character its an instance of string data type..\n",
        "type  (\"Homer Simpsons\")\n",
        "\n",
        "# type () function calls or executes function.."
      ]
    },
    {
      "cell_type": "code",
      "execution_count": null,
      "metadata": {
        "colab": {
          "base_uri": "https://localhost:8080/"
        },
        "id": "jLhmCRSJkz-3",
        "outputId": "e9026460-a862-429c-bda4-6d73c069677c"
      },
      "outputs": [
        {
          "data": {
            "text/plain": [
              "int"
            ]
          },
          "execution_count": 5,
          "metadata": {},
          "output_type": "execute_result"
        }
      ],
      "source": [
        "type (\"42\") # str data type..\n",
        "\n",
        "type (42)"
      ]
    },
    {
      "cell_type": "code",
      "execution_count": null,
      "metadata": {
        "id": "kiG752q-k0Cb"
      },
      "outputs": [],
      "source": []
    },
    {
      "cell_type": "code",
      "execution_count": null,
      "metadata": {
        "id": "VyLyLO1cVxIG"
      },
      "outputs": [],
      "source": [
        "# Lesson 1 .. changing data with built-in methods\n",
        "# python gives functionalities when dealing with strings"
      ]
    },
    {
      "cell_type": "code",
      "execution_count": null,
      "metadata": {
        "colab": {
          "base_uri": "https://localhost:8080/",
          "height": 35
        },
        "id": "qNmUTwrmokNc",
        "outputId": "6fe7575b-add3-405a-85e0-60e63e0143c3"
      },
      "outputs": [
        {
          "data": {
            "application/vnd.google.colaboratory.intrinsic+json": {
              "type": "string"
            },
            "text/plain": [
              "'HOMER SIMPSONS'"
            ]
          },
          "execution_count": 7,
          "metadata": {},
          "output_type": "execute_result"
        }
      ],
      "source": [
        "# consider method that only works with a string and not an integer..\n",
        "# string data type\n",
        "\"Homer Simpsons\".upper()"
      ]
    },
    {
      "cell_type": "code",
      "execution_count": null,
      "metadata": {
        "colab": {
          "base_uri": "https://localhost:8080/",
          "height": 106
        },
        "id": "K26lqirTokQJ",
        "outputId": "ba383178-f918-4ca5-c819-f2b99620aaec"
      },
      "outputs": [
        {
          "ename": "SyntaxError",
          "evalue": "invalid decimal literal (<ipython-input-9-8ab5bf46fc2d>, line 1)",
          "output_type": "error",
          "traceback": [
            "\u001b[0;36m  File \u001b[0;32m\"<ipython-input-9-8ab5bf46fc2d>\"\u001b[0;36m, line \u001b[0;32m1\u001b[0m\n\u001b[0;31m    42.upper()\u001b[0m\n\u001b[0m      ^\u001b[0m\n\u001b[0;31mSyntaxError\u001b[0m\u001b[0;31m:\u001b[0m invalid decimal literal\n"
          ]
        }
      ],
      "source": [
        "# integer data type..\n",
        "42.upper()"
      ]
    },
    {
      "cell_type": "code",
      "execution_count": null,
      "metadata": {
        "id": "zvTBUOBgokTA"
      },
      "outputs": [],
      "source": []
    },
    {
      "cell_type": "code",
      "execution_count": null,
      "metadata": {
        "colab": {
          "base_uri": "https://localhost:8080/"
        },
        "id": "tprNnGFGprc2",
        "outputId": "f5b6ca06-9421-4af1-f5a8-8a5d3e5176bb"
      },
      "outputs": [
        {
          "data": {
            "text/plain": [
              "True"
            ]
          },
          "execution_count": 11,
          "metadata": {},
          "output_type": "execute_result"
        }
      ],
      "source": [
        "# python operates on data type using the following format..\n",
        "# data.method_name()\n",
        "\"Homer Simpsons\".endswith(\"Simpsons\")"
      ]
    },
    {
      "cell_type": "code",
      "execution_count": null,
      "metadata": {
        "colab": {
          "base_uri": "https://localhost:8080/"
        },
        "id": "lPA__L6Rprgl",
        "outputId": "6f71b345-beaa-4ce5-a7d0-8fd065aefd2f"
      },
      "outputs": [
        {
          "data": {
            "text/plain": [
              "False"
            ]
          },
          "execution_count": 12,
          "metadata": {},
          "output_type": "execute_result"
        }
      ],
      "source": [
        "\"Homer simpsons\".endswith(\"Burns\")"
      ]
    },
    {
      "cell_type": "code",
      "execution_count": null,
      "metadata": {
        "id": "Ulub_emCqawP"
      },
      "outputs": [],
      "source": [
        "help()"
      ]
    },
    {
      "cell_type": "code",
      "execution_count": null,
      "metadata": {
        "id": "_5vakb9vqa14"
      },
      "outputs": [],
      "source": []
    },
    {
      "cell_type": "code",
      "execution_count": null,
      "metadata": {
        "colab": {
          "base_uri": "https://localhost:8080/",
          "height": 72
        },
        "id": "ouBDwe1Xqa5C",
        "outputId": "4c1fd472-91f2-4fa6-8255-3d4beea06629"
      },
      "outputs": [
        {
          "name": "stderr",
          "output_type": "stream",
          "text": [
            "/usr/local/lib/python3.10/dist-packages/ipykernel/ipkernel.py:283: DeprecationWarning: `should_run_async` will not call `transform_cell` automatically in the future. Please pass the result to `transformed_cell` argument and any exception that happen during thetransform in `preprocessing_exc_tuple` in IPython 7.17 and above.\n"
          ]
        },
        {
          "data": {
            "text/html": [
              "\n",
              "            <style>\n",
              "                .geemap-dark {\n",
              "                    --jp-widgets-color: white;\n",
              "                    --jp-widgets-label-color: white;\n",
              "                    --jp-ui-font-color1: white;\n",
              "                    --jp-layout-color2: #454545;\n",
              "                    background-color: #383838;\n",
              "                }\n",
              "\n",
              "                .geemap-dark .jupyter-button {\n",
              "                    --jp-layout-color3: #383838;\n",
              "                }\n",
              "\n",
              "                .geemap-colab {\n",
              "                    background-color: var(--colab-primary-surface-color, white);\n",
              "                }\n",
              "\n",
              "                .geemap-colab .jupyter-button {\n",
              "                    --jp-layout-color3: var(--colab-primary-surface-color, white);\n",
              "                }\n",
              "            </style>\n",
              "            "
            ],
            "text/plain": [
              "<IPython.core.display.HTML object>"
            ]
          },
          "metadata": {},
          "output_type": "display_data"
        },
        {
          "data": {
            "application/vnd.google.colaboratory.intrinsic+json": {
              "type": "string"
            },
            "text/plain": [
              "'Mika-benson@mikaben97'"
            ]
          },
          "execution_count": 18,
          "metadata": {},
          "output_type": "execute_result"
        }
      ],
      "source": [
        "\"mika-benson@mikaben97\".capitalize()"
      ]
    },
    {
      "cell_type": "code",
      "execution_count": null,
      "metadata": {
        "colab": {
          "base_uri": "https://localhost:8080/",
          "height": 72
        },
        "id": "8LKr1aq7u6Gl",
        "outputId": "f0822e38-482e-4849-e119-c21e81d93248"
      },
      "outputs": [
        {
          "name": "stderr",
          "output_type": "stream",
          "text": [
            "/usr/local/lib/python3.10/dist-packages/ipykernel/ipkernel.py:283: DeprecationWarning: `should_run_async` will not call `transform_cell` automatically in the future. Please pass the result to `transformed_cell` argument and any exception that happen during thetransform in `preprocessing_exc_tuple` in IPython 7.17 and above.\n"
          ]
        },
        {
          "data": {
            "text/html": [
              "\n",
              "            <style>\n",
              "                .geemap-dark {\n",
              "                    --jp-widgets-color: white;\n",
              "                    --jp-widgets-label-color: white;\n",
              "                    --jp-ui-font-color1: white;\n",
              "                    --jp-layout-color2: #454545;\n",
              "                    background-color: #383838;\n",
              "                }\n",
              "\n",
              "                .geemap-dark .jupyter-button {\n",
              "                    --jp-layout-color3: #383838;\n",
              "                }\n",
              "\n",
              "                .geemap-colab {\n",
              "                    background-color: var(--colab-primary-surface-color, white);\n",
              "                }\n",
              "\n",
              "                .geemap-colab .jupyter-button {\n",
              "                    --jp-layout-color3: var(--colab-primary-surface-color, white);\n",
              "                }\n",
              "            </style>\n",
              "            "
            ],
            "text/plain": [
              "<IPython.core.display.HTML object>"
            ]
          },
          "metadata": {},
          "output_type": "display_data"
        },
        {
          "data": {
            "application/vnd.google.colaboratory.intrinsic+json": {
              "type": "string"
            },
            "text/plain": [
              "'Hello World'"
            ]
          },
          "execution_count": 20,
          "metadata": {},
          "output_type": "execute_result"
        }
      ],
      "source": [
        "\"hello world\".title()"
      ]
    },
    {
      "cell_type": "code",
      "execution_count": null,
      "metadata": {
        "id": "uQRVVQ6yvOG5"
      },
      "outputs": [],
      "source": []
    },
    {
      "cell_type": "code",
      "execution_count": null,
      "metadata": {
        "id": "USo0WJ5Mw3Wm"
      },
      "outputs": [],
      "source": []
    },
    {
      "cell_type": "markdown",
      "metadata": {
        "id": "s7572sATw7G8"
      },
      "source": [
        "Variables: strings **lab**\n"
      ]
    },
    {
      "cell_type": "code",
      "execution_count": null,
      "metadata": {
        "colab": {
          "base_uri": "https://localhost:8080/",
          "height": 72
        },
        "id": "zOYt0lINw3bh",
        "outputId": "d6879419-336a-48dd-85c2-375b75503e2f"
      },
      "outputs": [
        {
          "name": "stderr",
          "output_type": "stream",
          "text": [
            "/usr/local/lib/python3.10/dist-packages/ipykernel/ipkernel.py:283: DeprecationWarning: `should_run_async` will not call `transform_cell` automatically in the future. Please pass the result to `transformed_cell` argument and any exception that happen during thetransform in `preprocessing_exc_tuple` in IPython 7.17 and above.\n"
          ]
        },
        {
          "data": {
            "text/html": [
              "\n",
              "            <style>\n",
              "                .geemap-dark {\n",
              "                    --jp-widgets-color: white;\n",
              "                    --jp-widgets-label-color: white;\n",
              "                    --jp-ui-font-color1: white;\n",
              "                    --jp-layout-color2: #454545;\n",
              "                    background-color: #383838;\n",
              "                }\n",
              "\n",
              "                .geemap-dark .jupyter-button {\n",
              "                    --jp-layout-color3: #383838;\n",
              "                }\n",
              "\n",
              "                .geemap-colab {\n",
              "                    background-color: var(--colab-primary-surface-color, white);\n",
              "                }\n",
              "\n",
              "                .geemap-colab .jupyter-button {\n",
              "                    --jp-layout-color3: var(--colab-primary-surface-color, white);\n",
              "                }\n",
              "            </style>\n",
              "            "
            ],
            "text/plain": [
              "<IPython.core.display.HTML object>"
            ]
          },
          "metadata": {},
          "output_type": "display_data"
        },
        {
          "data": {
            "application/vnd.google.colaboratory.intrinsic+json": {
              "type": "string"
            },
            "text/plain": [
              "'woW WE LOVE cOdInG and strINGS!'"
            ]
          },
          "execution_count": 37,
          "metadata": {},
          "output_type": "execute_result"
        }
      ],
      "source": [
        "# Test 1...Let's normalize the cases and make everything lower case except the first letter in the sentence.\n",
        "sentence = \"woW WE LOVE cOdInG and strINGS!\"\n",
        "sentence"
      ]
    },
    {
      "cell_type": "code",
      "execution_count": null,
      "metadata": {
        "colab": {
          "base_uri": "https://localhost:8080/",
          "height": 72
        },
        "id": "gKPbFAvNz-xl",
        "outputId": "8e3776ef-ce2e-42eb-dcbb-0fa06a5acfeb"
      },
      "outputs": [
        {
          "name": "stderr",
          "output_type": "stream",
          "text": [
            "/usr/local/lib/python3.10/dist-packages/ipykernel/ipkernel.py:283: DeprecationWarning: `should_run_async` will not call `transform_cell` automatically in the future. Please pass the result to `transformed_cell` argument and any exception that happen during thetransform in `preprocessing_exc_tuple` in IPython 7.17 and above.\n"
          ]
        },
        {
          "data": {
            "text/html": [
              "\n",
              "            <style>\n",
              "                .geemap-dark {\n",
              "                    --jp-widgets-color: white;\n",
              "                    --jp-widgets-label-color: white;\n",
              "                    --jp-ui-font-color1: white;\n",
              "                    --jp-layout-color2: #454545;\n",
              "                    background-color: #383838;\n",
              "                }\n",
              "\n",
              "                .geemap-dark .jupyter-button {\n",
              "                    --jp-layout-color3: #383838;\n",
              "                }\n",
              "\n",
              "                .geemap-colab {\n",
              "                    background-color: var(--colab-primary-surface-color, white);\n",
              "                }\n",
              "\n",
              "                .geemap-colab .jupyter-button {\n",
              "                    --jp-layout-color3: var(--colab-primary-surface-color, white);\n",
              "                }\n",
              "            </style>\n",
              "            "
            ],
            "text/plain": [
              "<IPython.core.display.HTML object>"
            ]
          },
          "metadata": {},
          "output_type": "display_data"
        },
        {
          "data": {
            "application/vnd.google.colaboratory.intrinsic+json": {
              "type": "string"
            },
            "text/plain": [
              "'Wow we love coding and strings!'"
            ]
          },
          "execution_count": 36,
          "metadata": {},
          "output_type": "execute_result"
        }
      ],
      "source": [
        "capitalized = sentence.capitalize()\n",
        "\n",
        "capitalized"
      ]
    },
    {
      "cell_type": "code",
      "execution_count": null,
      "metadata": {
        "id": "vTIzhB7qz_Pf"
      },
      "outputs": [],
      "source": []
    },
    {
      "cell_type": "code",
      "execution_count": null,
      "metadata": {
        "colab": {
          "base_uri": "https://localhost:8080/",
          "height": 72
        },
        "id": "04cGzDWmz_SF",
        "outputId": "6c1698df-cb18-45ca-dd48-feb60bfb3c00"
      },
      "outputs": [
        {
          "name": "stderr",
          "output_type": "stream",
          "text": [
            "/usr/local/lib/python3.10/dist-packages/ipykernel/ipkernel.py:283: DeprecationWarning: `should_run_async` will not call `transform_cell` automatically in the future. Please pass the result to `transformed_cell` argument and any exception that happen during thetransform in `preprocessing_exc_tuple` in IPython 7.17 and above.\n"
          ]
        },
        {
          "data": {
            "text/html": [
              "\n",
              "            <style>\n",
              "                .geemap-dark {\n",
              "                    --jp-widgets-color: white;\n",
              "                    --jp-widgets-label-color: white;\n",
              "                    --jp-ui-font-color1: white;\n",
              "                    --jp-layout-color2: #454545;\n",
              "                    background-color: #383838;\n",
              "                }\n",
              "\n",
              "                .geemap-dark .jupyter-button {\n",
              "                    --jp-layout-color3: #383838;\n",
              "                }\n",
              "\n",
              "                .geemap-colab {\n",
              "                    background-color: var(--colab-primary-surface-color, white);\n",
              "                }\n",
              "\n",
              "                .geemap-colab .jupyter-button {\n",
              "                    --jp-layout-color3: var(--colab-primary-surface-color, white);\n",
              "                }\n",
              "            </style>\n",
              "            "
            ],
            "text/plain": [
              "<IPython.core.display.HTML object>"
            ]
          },
          "metadata": {},
          "output_type": "display_data"
        },
        {
          "data": {
            "application/vnd.google.colaboratory.intrinsic+json": {
              "type": "string"
            },
            "text/plain": [
              "'learn. code. love'"
            ]
          },
          "execution_count": 39,
          "metadata": {},
          "output_type": "execute_result"
        }
      ],
      "source": [
        "# Test 2 .. use the string method making all the string in the first letter caps..\n",
        "flatiron_mantra = \"learn. code. love\"\n",
        "flatiron_mantra"
      ]
    },
    {
      "cell_type": "code",
      "execution_count": null,
      "metadata": {
        "colab": {
          "base_uri": "https://localhost:8080/",
          "height": 72
        },
        "id": "7ACAOzwK3DYe",
        "outputId": "7d4b789d-8e33-406c-9fd8-d61846a468d6"
      },
      "outputs": [
        {
          "name": "stderr",
          "output_type": "stream",
          "text": [
            "/usr/local/lib/python3.10/dist-packages/ipykernel/ipkernel.py:283: DeprecationWarning: `should_run_async` will not call `transform_cell` automatically in the future. Please pass the result to `transformed_cell` argument and any exception that happen during thetransform in `preprocessing_exc_tuple` in IPython 7.17 and above.\n"
          ]
        },
        {
          "data": {
            "text/html": [
              "\n",
              "            <style>\n",
              "                .geemap-dark {\n",
              "                    --jp-widgets-color: white;\n",
              "                    --jp-widgets-label-color: white;\n",
              "                    --jp-ui-font-color1: white;\n",
              "                    --jp-layout-color2: #454545;\n",
              "                    background-color: #383838;\n",
              "                }\n",
              "\n",
              "                .geemap-dark .jupyter-button {\n",
              "                    --jp-layout-color3: #383838;\n",
              "                }\n",
              "\n",
              "                .geemap-colab {\n",
              "                    background-color: var(--colab-primary-surface-color, white);\n",
              "                }\n",
              "\n",
              "                .geemap-colab .jupyter-button {\n",
              "                    --jp-layout-color3: var(--colab-primary-surface-color, white);\n",
              "                }\n",
              "            </style>\n",
              "            "
            ],
            "text/plain": [
              "<IPython.core.display.HTML object>"
            ]
          },
          "metadata": {},
          "output_type": "display_data"
        },
        {
          "data": {
            "application/vnd.google.colaboratory.intrinsic+json": {
              "type": "string"
            },
            "text/plain": [
              "'Learn. Code. Love'"
            ]
          },
          "execution_count": 41,
          "metadata": {},
          "output_type": "execute_result"
        }
      ],
      "source": [
        "mantra = flatiron_mantra.title()\n",
        "mantra"
      ]
    },
    {
      "cell_type": "code",
      "execution_count": null,
      "metadata": {
        "id": "gpeJGilY3DdP"
      },
      "outputs": [],
      "source": []
    },
    {
      "cell_type": "code",
      "execution_count": null,
      "metadata": {
        "colab": {
          "base_uri": "https://localhost:8080/",
          "height": 72
        },
        "id": "pMKfTzgAzGZ6",
        "outputId": "6dbddbf4-fad5-4b0f-d160-49c0c28f80f8"
      },
      "outputs": [
        {
          "name": "stderr",
          "output_type": "stream",
          "text": [
            "/usr/local/lib/python3.10/dist-packages/ipykernel/ipkernel.py:283: DeprecationWarning: `should_run_async` will not call `transform_cell` automatically in the future. Please pass the result to `transformed_cell` argument and any exception that happen during thetransform in `preprocessing_exc_tuple` in IPython 7.17 and above.\n"
          ]
        },
        {
          "data": {
            "text/html": [
              "\n",
              "            <style>\n",
              "                .geemap-dark {\n",
              "                    --jp-widgets-color: white;\n",
              "                    --jp-widgets-label-color: white;\n",
              "                    --jp-ui-font-color1: white;\n",
              "                    --jp-layout-color2: #454545;\n",
              "                    background-color: #383838;\n",
              "                }\n",
              "\n",
              "                .geemap-dark .jupyter-button {\n",
              "                    --jp-layout-color3: #383838;\n",
              "                }\n",
              "\n",
              "                .geemap-colab {\n",
              "                    background-color: var(--colab-primary-surface-color, white);\n",
              "                }\n",
              "\n",
              "                .geemap-colab .jupyter-button {\n",
              "                    --jp-layout-color3: var(--colab-primary-surface-color, white);\n",
              "                }\n",
              "            </style>\n",
              "            "
            ],
            "text/plain": [
              "<IPython.core.display.HTML object>"
            ]
          },
          "metadata": {},
          "output_type": "display_data"
        },
        {
          "data": {
            "text/plain": [
              "1234"
            ]
          },
          "execution_count": 42,
          "metadata": {},
          "output_type": "execute_result"
        }
      ],
      "source": [
        "# Test 3.. concatenation process of joining two or more strings end to end forming single string can be achieved by\n",
        "# using the \" + \" operator\n",
        "num_to_string = 1234\n",
        "num_to_string"
      ]
    },
    {
      "cell_type": "code",
      "execution_count": null,
      "metadata": {
        "colab": {
          "base_uri": "https://localhost:8080/",
          "height": 72
        },
        "id": "C7lhDNeX5kRM",
        "outputId": "ffa96d1d-bc7b-473c-ad00-c2309c35d23d"
      },
      "outputs": [
        {
          "name": "stderr",
          "output_type": "stream",
          "text": [
            "/usr/local/lib/python3.10/dist-packages/ipykernel/ipkernel.py:283: DeprecationWarning: `should_run_async` will not call `transform_cell` automatically in the future. Please pass the result to `transformed_cell` argument and any exception that happen during thetransform in `preprocessing_exc_tuple` in IPython 7.17 and above.\n"
          ]
        },
        {
          "data": {
            "text/html": [
              "\n",
              "            <style>\n",
              "                .geemap-dark {\n",
              "                    --jp-widgets-color: white;\n",
              "                    --jp-widgets-label-color: white;\n",
              "                    --jp-ui-font-color1: white;\n",
              "                    --jp-layout-color2: #454545;\n",
              "                    background-color: #383838;\n",
              "                }\n",
              "\n",
              "                .geemap-dark .jupyter-button {\n",
              "                    --jp-layout-color3: #383838;\n",
              "                }\n",
              "\n",
              "                .geemap-colab {\n",
              "                    background-color: var(--colab-primary-surface-color, white);\n",
              "                }\n",
              "\n",
              "                .geemap-colab .jupyter-button {\n",
              "                    --jp-layout-color3: var(--colab-primary-surface-color, white);\n",
              "                }\n",
              "            </style>\n",
              "            "
            ],
            "text/plain": [
              "<IPython.core.display.HTML object>"
            ]
          },
          "metadata": {},
          "output_type": "display_data"
        },
        {
          "data": {
            "application/vnd.google.colaboratory.intrinsic+json": {
              "type": "string"
            },
            "text/plain": [
              "'1234 Main St'"
            ]
          },
          "execution_count": 43,
          "metadata": {},
          "output_type": "execute_result"
        }
      ],
      "source": [
        "address = \"1234 Main St\"\n",
        "address"
      ]
    },
    {
      "cell_type": "code",
      "execution_count": null,
      "metadata": {
        "id": "LxLKsxVs5kT3"
      },
      "outputs": [],
      "source": []
    },
    {
      "cell_type": "code",
      "execution_count": null,
      "metadata": {
        "colab": {
          "base_uri": "https://localhost:8080/",
          "height": 35
        },
        "id": "Vw4be3xxdZuY",
        "outputId": "5768b70b-eafc-4cd8-90e8-f064875ad699"
      },
      "outputs": [
        {
          "data": {
            "application/vnd.google.colaboratory.intrinsic+json": {
              "type": "string"
            },
            "text/plain": [
              "'addressAbc street, Hometown USA'"
            ]
          },
          "execution_count": 9,
          "metadata": {},
          "output_type": "execute_result"
        }
      ],
      "source": [
        "# Test 4 take the num_to_string add to the beginning of our street address below.\n",
        "# concatenate to ensure that the full_address is all in one string then its assigned to the variable full_address.\n",
        "\n",
        "full_address = \"address\" + \"Abc street, Hometown USA\"\n",
        "\n",
        "full_address"
      ]
    },
    {
      "cell_type": "code",
      "execution_count": null,
      "metadata": {
        "id": "cjfcF0d1dZxq"
      },
      "outputs": [],
      "source": []
    },
    {
      "cell_type": "code",
      "execution_count": null,
      "metadata": {
        "colab": {
          "base_uri": "https://localhost:8080/",
          "height": 35
        },
        "id": "ZTJP0gZt5kWz",
        "outputId": "9579df69-5ca1-4120-9ea0-7b57d2eb2d15"
      },
      "outputs": [
        {
          "data": {
            "application/vnd.google.colaboratory.intrinsic+json": {
              "type": "string"
            },
            "text/plain": [
              "'num_to_string Abc street, Hometown USA'"
            ]
          },
          "execution_count": 10,
          "metadata": {},
          "output_type": "execute_result"
        }
      ],
      "source": [
        "full_address = \"num_to_string\" + \" Abc street, Hometown USA\"\n",
        "full_address"
      ]
    },
    {
      "cell_type": "code",
      "execution_count": null,
      "metadata": {
        "id": "pIRztHamaauR"
      },
      "outputs": [],
      "source": []
    },
    {
      "cell_type": "code",
      "execution_count": null,
      "metadata": {
        "colab": {
          "base_uri": "https://localhost:8080/",
          "height": 158
        },
        "id": "3aMVacRpaaxm",
        "outputId": "7c6e8a42-1b2e-456d-e2de-82c5ae1e514c"
      },
      "outputs": [
        {
          "ename": "TypeError",
          "evalue": "replace expected at least 2 arguments, got 1",
          "output_type": "error",
          "traceback": [
            "\u001b[0;31m---------------------------------------------------------------------------\u001b[0m",
            "\u001b[0;31mTypeError\u001b[0m                                 Traceback (most recent call last)",
            "\u001b[0;32m<ipython-input-12-945d2d7a92a7>\u001b[0m in \u001b[0;36m<cell line: 2>\u001b[0;34m()\u001b[0m\n\u001b[1;32m      1\u001b[0m \u001b[0mname\u001b[0m \u001b[0;34m=\u001b[0m \u001b[0;34m\"Bart Simpsons\"\u001b[0m\u001b[0;34m\u001b[0m\u001b[0;34m\u001b[0m\u001b[0m\n\u001b[0;32m----> 2\u001b[0;31m \u001b[0mname\u001b[0m \u001b[0;34m=\u001b[0m\u001b[0;34m\"Bart Simpsons\"\u001b[0m\u001b[0;34m.\u001b[0m\u001b[0mreplace\u001b[0m\u001b[0;34m(\u001b[0m\u001b[0;34m\"Flanders\"\u001b[0m\u001b[0;34m)\u001b[0m\u001b[0;34m\u001b[0m\u001b[0;34m\u001b[0m\u001b[0m\n\u001b[0m",
            "\u001b[0;31mTypeError\u001b[0m: replace expected at least 2 arguments, got 1"
          ]
        }
      ],
      "source": [
        "# Test 5 from the variable name = \"Bart Simpsons\", replace the name with \"Bart Flanders\"\n",
        "# consider using the .replace () method for the arguments..\n",
        "\n",
        "name = \"Bart Simpsons\"\n",
        "name =\"Bart Simpsons\".replace(\"Flanders\")"
      ]
    },
    {
      "cell_type": "code",
      "execution_count": null,
      "metadata": {
        "id": "wVmQ0NjUaa3s"
      },
      "outputs": [],
      "source": []
    },
    {
      "cell_type": "code",
      "execution_count": null,
      "metadata": {
        "colab": {
          "base_uri": "https://localhost:8080/",
          "height": 35
        },
        "id": "HnOjh11eaa7F",
        "outputId": "584c8219-591a-4fbf-b2b7-9c89cbd02f87"
      },
      "outputs": [
        {
          "data": {
            "application/vnd.google.colaboratory.intrinsic+json": {
              "type": "string"
            },
            "text/plain": [
              "'Bart Flanders'"
            ]
          },
          "execution_count": 15,
          "metadata": {},
          "output_type": "execute_result"
        }
      ],
      "source": [
        "# When using the .replace () method ensure the format below\n",
        "# name (variable) = name.replace (\"first argument\", \"second argument\")\n",
        "\n",
        "name = \"Bart Simpsons\"\n",
        "name = name.replace (\"Simpsons\", \"Flanders\")\n",
        "name"
      ]
    },
    {
      "cell_type": "code",
      "execution_count": null,
      "metadata": {
        "id": "igqr00z7aa-9"
      },
      "outputs": [],
      "source": []
    },
    {
      "cell_type": "code",
      "execution_count": null,
      "metadata": {
        "id": "qcfBi_OdabCw"
      },
      "outputs": [],
      "source": []
    },
    {
      "cell_type": "markdown",
      "metadata": {
        "id": "KCR0EiRBmqa8"
      },
      "source": [
        "**INTRODUCTION TO VARIABLES .. NUMERIC DATA TYPES AND BOOLEANS..**"
      ]
    },
    {
      "cell_type": "code",
      "execution_count": null,
      "metadata": {
        "colab": {
          "base_uri": "https://localhost:8080/"
        },
        "id": "cX54KuFkabFr",
        "outputId": "813d339b-50ab-4049-91f0-bb61bef2b4e4"
      },
      "outputs": [
        {
          "data": {
            "text/plain": [
              "10"
            ]
          },
          "execution_count": 16,
          "metadata": {},
          "output_type": "execute_result"
        }
      ],
      "source": [
        "# Numeric data types.. these are data types that represents numerical values which allows for representation\n",
        "# and manipulation of numeric values in programming..\n",
        "\n",
        "# Most programming language, these numeric values have a fixed range based on the number of bits (binary digits)\n",
        "\n",
        "2 * 5"
      ]
    },
    {
      "cell_type": "code",
      "execution_count": null,
      "metadata": {
        "colab": {
          "base_uri": "https://localhost:8080/"
        },
        "id": "Vu_YdHRMabJs",
        "outputId": "fffbd973-0c85-4350-9139-1129bd1d1ce6"
      },
      "outputs": [
        {
          "data": {
            "text/plain": [
              "int"
            ]
          },
          "execution_count": 17,
          "metadata": {},
          "output_type": "execute_result"
        }
      ],
      "source": [
        "type (10)"
      ]
    },
    {
      "cell_type": "code",
      "execution_count": null,
      "metadata": {
        "colab": {
          "base_uri": "https://localhost:8080/"
        },
        "id": "-YfgouGcabNK",
        "outputId": "13359d22-394f-4a9f-e828-ddf940d30139"
      },
      "outputs": [
        {
          "data": {
            "text/plain": [
              "10.75"
            ]
          },
          "execution_count": 18,
          "metadata": {},
          "output_type": "execute_result"
        }
      ],
      "source": [
        "10 + 0.75"
      ]
    },
    {
      "cell_type": "code",
      "execution_count": null,
      "metadata": {
        "colab": {
          "base_uri": "https://localhost:8080/"
        },
        "id": "A-6vVG8IabQl",
        "outputId": "892187cc-3bf2-4ffe-93a4-fd3f3ee8fbaf"
      },
      "outputs": [
        {
          "data": {
            "text/plain": [
              "float"
            ]
          },
          "execution_count": 19,
          "metadata": {},
          "output_type": "execute_result"
        }
      ],
      "source": [
        "type (10.75)"
      ]
    },
    {
      "cell_type": "code",
      "execution_count": null,
      "metadata": {
        "colab": {
          "base_uri": "https://localhost:8080/"
        },
        "id": "HKD3mYbonXdB",
        "outputId": "ce134e74-4b3b-4871-e672-5f380baff0de"
      },
      "outputs": [
        {
          "data": {
            "text/plain": [
              "False"
            ]
          },
          "execution_count": 20,
          "metadata": {},
          "output_type": "execute_result"
        }
      ],
      "source": [
        "# boolean data type gives the comparison fuction of data..\n",
        "3 * 5 < 10"
      ]
    },
    {
      "cell_type": "code",
      "execution_count": null,
      "metadata": {
        "id": "spze2Lgnntak"
      },
      "outputs": [],
      "source": []
    },
    {
      "cell_type": "code",
      "execution_count": null,
      "metadata": {
        "colab": {
          "base_uri": "https://localhost:8080/",
          "height": 35
        },
        "id": "p1OoLHSYntdv",
        "outputId": "75866d8d-cc10-46d6-b6ab-dedf884fedbb"
      },
      "outputs": [
        {
          "data": {
            "application/vnd.google.colaboratory.intrinsic+json": {
              "type": "string"
            },
            "text/plain": [
              "'west 34th street'"
            ]
          },
          "execution_count": 23,
          "metadata": {},
          "output_type": "execute_result"
        }
      ],
      "source": [
        "# Data types and choices.. for the good programmers worry about both the data structures and their relation..\n",
        "# methods allows us to change between data types and to think of when we would want the data to be in one type verses another..\n",
        "\n",
        "\"west 34th street\"\n",
        "# 34 could either be an integer or a string depending on the data structure.."
      ]
    },
    {
      "cell_type": "code",
      "execution_count": null,
      "metadata": {
        "id": "GxvroCUDzE59"
      },
      "outputs": [],
      "source": []
    },
    {
      "cell_type": "markdown",
      "metadata": {
        "id": "H6_O12tyzFur"
      },
      "source": [
        "Lesson summary: to swich between data types simply write the name of the type followed by () and the data on which we want to operate.."
      ]
    },
    {
      "cell_type": "code",
      "execution_count": null,
      "metadata": {
        "colab": {
          "base_uri": "https://localhost:8080/",
          "height": 35
        },
        "id": "BHKP9eiIntis",
        "outputId": "01236b35-8214-4969-e5aa-65d0ee978212"
      },
      "outputs": [
        {
          "data": {
            "application/vnd.google.colaboratory.intrinsic+json": {
              "type": "string"
            },
            "text/plain": [
              "'West 34Th Street'"
            ]
          },
          "execution_count": 24,
          "metadata": {},
          "output_type": "execute_result"
        }
      ],
      "source": [
        "\"west 34th street\".title ()\n",
        "# This code capitalizes all the first words in the string to mail a letter.. it keeps the data format as a string.."
      ]
    },
    {
      "cell_type": "code",
      "execution_count": null,
      "metadata": {
        "id": "VCPeoyjCzCDR"
      },
      "outputs": [],
      "source": []
    },
    {
      "cell_type": "code",
      "execution_count": null,
      "metadata": {
        "colab": {
          "base_uri": "https://localhost:8080/"
        },
        "id": "ViLmy7kTntl8",
        "outputId": "b5d6d11c-8d53-4209-84ef-2fd989c45834"
      },
      "outputs": [
        {
          "data": {
            "text/plain": [
              "False"
            ]
          },
          "execution_count": 25,
          "metadata": {},
          "output_type": "execute_result"
        }
      ],
      "source": [
        "34 < 22"
      ]
    },
    {
      "cell_type": "code",
      "execution_count": null,
      "metadata": {
        "colab": {
          "base_uri": "https://localhost:8080/",
          "height": 176
        },
        "id": "id-dWAhUwugY",
        "outputId": "cc409e06-333a-47a5-b837-744f610d2237"
      },
      "outputs": [
        {
          "ename": "TypeError",
          "evalue": "'<' not supported between instances of 'str' and 'int'",
          "output_type": "error",
          "traceback": [
            "\u001b[0;31m---------------------------------------------------------------------------\u001b[0m",
            "\u001b[0;31mTypeError\u001b[0m                                 Traceback (most recent call last)",
            "\u001b[0;32m<ipython-input-27-0eeccb473045>\u001b[0m in \u001b[0;36m<cell line: 1>\u001b[0;34m()\u001b[0m\n\u001b[0;32m----> 1\u001b[0;31m \u001b[0;34m\"34th street\"\u001b[0m \u001b[0;34m<\u001b[0m \u001b[0;36m22\u001b[0m\u001b[0;34m\u001b[0m\u001b[0;34m\u001b[0m\u001b[0m\n\u001b[0m\u001b[1;32m      2\u001b[0m \u001b[0;31m# trying to compare between a str and an int .. creates a typeError since '<' not supported by both instances, str and int.\u001b[0m\u001b[0;34m\u001b[0m\u001b[0;34m\u001b[0m\u001b[0m\n",
            "\u001b[0;31mTypeError\u001b[0m: '<' not supported between instances of 'str' and 'int'"
          ]
        }
      ],
      "source": [
        "\"34th street\" < 22\n",
        "# trying to compare between a str and an int .. creates a typeError since '<' not supported by both instances, str and int."
      ]
    },
    {
      "cell_type": "code",
      "execution_count": null,
      "metadata": {
        "colab": {
          "base_uri": "https://localhost:8080/"
        },
        "id": "Dea6SJlzwuja",
        "outputId": "dfe81a31-9253-4760-cff7-4e89d1282ae0"
      },
      "outputs": [
        {
          "data": {
            "text/plain": [
              "False"
            ]
          },
          "execution_count": 30,
          "metadata": {},
          "output_type": "execute_result"
        }
      ],
      "source": [
        "# To convert a string to an integer then make the comparison..\n",
        "int (\"34\") < 22"
      ]
    },
    {
      "cell_type": "code",
      "execution_count": null,
      "metadata": {
        "id": "82xwrOiKwumz"
      },
      "outputs": [],
      "source": []
    },
    {
      "cell_type": "code",
      "execution_count": null,
      "metadata": {
        "colab": {
          "base_uri": "https://localhost:8080/",
          "height": 35
        },
        "id": "Uh-hastFwuqY",
        "outputId": "dd790256-d774-433c-e843-02c706b1ce5e"
      },
      "outputs": [
        {
          "data": {
            "application/vnd.google.colaboratory.intrinsic+json": {
              "type": "string"
            },
            "text/plain": [
              "'34th street'"
            ]
          },
          "execution_count": 31,
          "metadata": {},
          "output_type": "execute_result"
        }
      ],
      "source": [
        "# To convert a number to string\n",
        "str (34) + \"th street\""
      ]
    },
    {
      "cell_type": "code",
      "execution_count": null,
      "metadata": {
        "id": "KzRI3Ij-ntpA"
      },
      "outputs": [],
      "source": []
    },
    {
      "cell_type": "code",
      "execution_count": null,
      "metadata": {
        "id": "BILLIk6dy3p1"
      },
      "outputs": [],
      "source": []
    },
    {
      "cell_type": "markdown",
      "metadata": {
        "id": "aK4Gxc38PYrr"
      },
      "source": [
        "**Introduction to variables.. strings and numeric data types lab..**"
      ]
    },
    {
      "cell_type": "code",
      "execution_count": null,
      "metadata": {
        "id": "wzIsqZuby3tx"
      },
      "outputs": [],
      "source": [
        "# As data scientist we often clean and orgarnize data before we can make sense out of it.\n",
        "# consider the following data set (business_card) that requires changes to be made for ease of understanding\n",
        "\n",
        "# art Vandelay\n",
        "# Ceo\n",
        "# Vandelay Industries\n",
        "# New York, New York\n",
        "# 7285553334\n",
        "\n",
        "# art.vandelay@vandelay.co\n",
        "# vandelay.com\n"
      ]
    },
    {
      "cell_type": "code",
      "execution_count": null,
      "metadata": {
        "colab": {
          "base_uri": "https://localhost:8080/",
          "height": 35
        },
        "id": "WR_pn-BMy3v1",
        "outputId": "049dd321-abae-4641-8a3c-db300be56927"
      },
      "outputs": [
        {
          "data": {
            "application/vnd.google.colaboratory.intrinsic+json": {
              "type": "string"
            },
            "text/plain": [
              "'ART VANDELAY'"
            ]
          },
          "execution_count": 7,
          "metadata": {},
          "output_type": "execute_result"
        }
      ],
      "source": [
        "# case 1..\n",
        "\"art vandelay\"\n",
        "\n",
        "\"art vandelay\".upper()"
      ]
    },
    {
      "cell_type": "code",
      "execution_count": null,
      "metadata": {
        "id": "ajjtph8WQsIS"
      },
      "outputs": [],
      "source": []
    },
    {
      "cell_type": "code",
      "execution_count": null,
      "metadata": {
        "colab": {
          "base_uri": "https://localhost:8080/",
          "height": 35
        },
        "id": "DAYCqn6YQsLH",
        "outputId": "6c68b797-e688-416d-babb-92a1c931bf3d"
      },
      "outputs": [
        {
          "data": {
            "application/vnd.google.colaboratory.intrinsic+json": {
              "type": "string"
            },
            "text/plain": [
              "'Art_Vandelay'"
            ]
          },
          "execution_count": 11,
          "metadata": {},
          "output_type": "execute_result"
        }
      ],
      "source": [
        "# problem 1.. capitalize the first letters of each word in the \"art vandelay\"\n",
        "art_vandelay = \"art_vandelay\"\n",
        "\n",
        "art_vandelay.title()"
      ]
    },
    {
      "cell_type": "code",
      "execution_count": null,
      "metadata": {
        "colab": {
          "base_uri": "https://localhost:8080/",
          "height": 35
        },
        "id": "kwsTMTWCQsPc",
        "outputId": "b5abef2b-9af5-44c7-eb82-9ab65bc0737d"
      },
      "outputs": [
        {
          "data": {
            "application/vnd.google.colaboratory.intrinsic+json": {
              "type": "string"
            },
            "text/plain": [
              "'CEO'"
            ]
          },
          "execution_count": 16,
          "metadata": {},
          "output_type": "execute_result"
        }
      ],
      "source": [
        "# problem 2.. turn all the letters of the Ceo to upper case..\n",
        "Ceo = \"ceo\"\n",
        "Ceo\n",
        "\n",
        "\"ceo\".upper()"
      ]
    },
    {
      "cell_type": "code",
      "execution_count": null,
      "metadata": {
        "colab": {
          "base_uri": "https://localhost:8080/"
        },
        "id": "h_8W4Sgxy30e",
        "outputId": "84b9328e-0fc7-4529-9282-d6728f718822"
      },
      "outputs": [
        {
          "data": {
            "text/plain": [
              "False"
            ]
          },
          "execution_count": 19,
          "metadata": {},
          "output_type": "execute_result"
        }
      ],
      "source": [
        "# problem 3 ..ensure the code answers the question about whether the email address ends with (.com)\n",
        "ends_with_com = \"art.vandelay@vandelay.co\"\n",
        "ends_with_com\n",
        "\n",
        "\"art.vandelay@vandelay.co\".endswith (\".com\")"
      ]
    },
    {
      "cell_type": "code",
      "execution_count": null,
      "metadata": {
        "colab": {
          "base_uri": "https://localhost:8080/",
          "height": 35
        },
        "id": "g8y40tRoRzmE",
        "outputId": "b93dfc8b-c34f-4c48-fdaf-f9e2d895c8ae"
      },
      "outputs": [
        {
          "data": {
            "application/vnd.google.colaboratory.intrinsic+json": {
              "type": "string"
            },
            "text/plain": [
              "'www.vandelay.com'"
            ]
          },
          "execution_count": 25,
          "metadata": {},
          "output_type": "execute_result"
        }
      ],
      "source": [
        "# problem 4.. ensure that the website is preceded by \"www\"\n",
        "web_address = \"vandelay.com\"\n",
        "web_address\n",
        "\n",
        "web_address1 = \"www.\" + \"vandelay.com\"\n",
        "\n",
        "web_address1"
      ]
    },
    {
      "cell_type": "code",
      "execution_count": null,
      "metadata": {
        "colab": {
          "base_uri": "https://localhost:8080/"
        },
        "id": "zUkda-RRRzop",
        "outputId": "13ead762-eea4-47dd-dbff-3b37a17f8dbc"
      },
      "outputs": [
        {
          "data": {
            "text/plain": [
              "7285553335"
            ]
          },
          "execution_count": 29,
          "metadata": {},
          "output_type": "execute_result"
        }
      ],
      "source": [
        "# problem 5..Mr Vandelay has three phone numbers and from his business card he has only indicated one.\n",
        "# all his three numbers are basically the same with exception of the ending..\n",
        "\n",
        "# coerce the first_phone_number which is currently a string to an int then add one..\n",
        "phone_num_one = \"7285553334\"\n",
        "phone_num_one\n",
        "\n",
        "int(phone_num_one) + 1\n"
      ]
    },
    {
      "cell_type": "code",
      "execution_count": null,
      "metadata": {
        "colab": {
          "base_uri": "https://localhost:8080/"
        },
        "id": "_zeq0ooyRzr_",
        "outputId": "b59d3aa9-fcd7-4338-b1c6-2e07a30bf50d"
      },
      "outputs": [
        {
          "data": {
            "text/plain": [
              "7285553336"
            ]
          },
          "execution_count": 31,
          "metadata": {},
          "output_type": "execute_result"
        }
      ],
      "source": [
        "phone_num_two = \"7285553334\"\n",
        "phone_num_two\n",
        "\n",
        "int (phone_num_two) + 2"
      ]
    },
    {
      "cell_type": "code",
      "execution_count": null,
      "metadata": {
        "id": "_vfIeAgRUEZA"
      },
      "outputs": [],
      "source": []
    },
    {
      "cell_type": "code",
      "execution_count": null,
      "metadata": {
        "id": "NdWbcPYl_UWv"
      },
      "outputs": [],
      "source": []
    },
    {
      "cell_type": "markdown",
      "metadata": {
        "id": "69D6WTxW_eI3"
      },
      "source": [
        "**CONTROL FLOW: CONDITIONALS..**"
      ]
    },
    {
      "cell_type": "code",
      "execution_count": null,
      "metadata": {
        "id": "0cQNOeoi_UZS"
      },
      "outputs": [],
      "source": [
        "# Conditionals allows to break up code in such a way that we can selectively perform operations like assigning value"
      ]
    },
    {
      "cell_type": "code",
      "execution_count": null,
      "metadata": {
        "colab": {
          "base_uri": "https://localhost:8080/"
        },
        "id": "E534HcNv_Ue8",
        "outputId": "7db8b60d-4ad2-4839-8814-4404189ba883"
      },
      "outputs": [
        {
          "data": {
            "text/plain": [
              "2"
            ]
          },
          "execution_count": 6,
          "metadata": {},
          "output_type": "execute_result"
        }
      ],
      "source": [
        "# Lesson 1.. Execution flow..\n",
        "vacation_days = 0\n",
        "vacation_days = vacation_days + 1\n",
        "vacation_days = vacation_days + 1\n",
        "vacation_days\n",
        "\n",
        "# the vacation_days is assigned 0, then reassigned by incrementing by 1 and again reassigned by 1.."
      ]
    },
    {
      "cell_type": "code",
      "execution_count": null,
      "metadata": {
        "colab": {
          "base_uri": "https://localhost:8080/"
        },
        "id": "M-7_MeJ1_UmN",
        "outputId": "a7346097-fd85-4c0d-c11d-a59bb9d95098"
      },
      "outputs": [
        {
          "data": {
            "text/plain": [
              "2"
            ]
          },
          "execution_count": 12,
          "metadata": {},
          "output_type": "execute_result"
        }
      ],
      "source": [
        "# The += is used to increment the current value of the variable then assigns a new look..\n",
        "vacation_days = 0\n",
        "vacation_days += 1\n",
        "vacation_days += 1\n",
        "vacation_days"
      ]
    },
    {
      "cell_type": "code",
      "execution_count": null,
      "metadata": {
        "id": "2ViaCaCgAwl9"
      },
      "outputs": [],
      "source": [
        "# Case study.. if we wanted to increment the vacation_days based on condition, we could imagine the condition\n",
        "# being whether or not we hit the goals (goals_met)\n",
        "# and if that condition were True we would want to increase the vacation_days"
      ]
    },
    {
      "cell_type": "code",
      "execution_count": null,
      "metadata": {
        "colab": {
          "base_uri": "https://localhost:8080/"
        },
        "id": "xOP1BGiPAwpN",
        "outputId": "98b2a275-9cc5-41c8-babe-c89832bf35ad"
      },
      "outputs": [
        {
          "name": "stdout",
          "output_type": "stream",
          "text": [
            "vacation_days= 2\n",
            "we incremented the vacation days\n"
          ]
        }
      ],
      "source": [
        "# The if statement..\n",
        "\n",
        "vacation_days = 1\n",
        "goals_met = True\n",
        "if goals_met:\n",
        "  vacation_days += 1\n",
        "print(\"vacation_days=\", vacation_days)\n",
        "print (\"we incremented the vacation days\")\n"
      ]
    },
    {
      "cell_type": "code",
      "execution_count": null,
      "metadata": {
        "id": "wvHGk4tgHjEO"
      },
      "outputs": [],
      "source": []
    },
    {
      "cell_type": "code",
      "execution_count": null,
      "metadata": {
        "colab": {
          "base_uri": "https://localhost:8080/"
        },
        "id": "N9-bNL73YdGG",
        "outputId": "6fa378ae-b549-4775-e3df-a191d830f399"
      },
      "outputs": [
        {
          "name": "stdout",
          "output_type": "stream",
          "text": [
            "vacation_days = 1\n",
            "we did not increment the vacation days\n"
          ]
        }
      ],
      "source": [
        "# The else: statement..\n",
        "\n",
        "vacation_days = 1\n",
        "goals_met = False\n",
        "if goals_met:\n",
        "  vacation_days += 1\n",
        "  print(\"vacation_days =\", vacation_days)\n",
        "  print(\"we incremented the vacation days\")\n",
        "else:\n",
        "    print (\"vacation_days =\", vacation_days)\n",
        "    print(\"we did not increment the vacation days\")"
      ]
    },
    {
      "cell_type": "code",
      "execution_count": null,
      "metadata": {
        "id": "FVH2tANuYdI2"
      },
      "outputs": [],
      "source": []
    },
    {
      "cell_type": "code",
      "execution_count": null,
      "metadata": {
        "id": "Q-8EDreBYdLm"
      },
      "outputs": [],
      "source": [
        "# The elif statement.. requires condition and the block of code but only comes after an if statement or another elif"
      ]
    },
    {
      "cell_type": "code",
      "execution_count": null,
      "metadata": {
        "colab": {
          "base_uri": "https://localhost:8080/"
        },
        "id": "kZKqeoUhX0Bw",
        "outputId": "d9f57325-235c-48ee-b112-51853165f7c7"
      },
      "outputs": [
        {
          "name": "stdout",
          "output_type": "stream",
          "text": [
            "vacation_days = 3\n",
            "We incremented the vacation days\n",
            "We will increase the vacation days by two\n"
          ]
        }
      ],
      "source": [
        "vacation_days = 1\n",
        "goals_met = False\n",
        "goals_exceeded =  True\n",
        "if goals_met:\n",
        "  vacation_days += 1\n",
        "  print(\"vacation_days =\", vacation_days)\n",
        "  print(\"We incremented the vacation days\")\n",
        "\n",
        "elif goals_exceeded:\n",
        "  vacation_days += 2\n",
        "  print(\"vacation_days =\", vacation_days)\n",
        "  print(\"We incremented the vacation days\")\n",
        "  print(\"We will increase the vacation days by two\")\n",
        "\n",
        "else:\n",
        "  print(\"vacation_days=\", vacation_days)\n",
        "  print(\"We did not increment the vacation days\")"
      ]
    },
    {
      "cell_type": "code",
      "execution_count": null,
      "metadata": {
        "id": "xk1dpynGX0Ev"
      },
      "outputs": [],
      "source": []
    },
    {
      "cell_type": "code",
      "execution_count": null,
      "metadata": {
        "id": "ewZJ_XxtX0G6"
      },
      "outputs": [],
      "source": [
        "# Truthiness.. for conditionals it depends on whether the value is True or False..\n",
        "# value 1 = truthy ... all the numbers are truthy values except the\n",
        "# value 0 or None = falsy\n"
      ]
    },
    {
      "cell_type": "code",
      "execution_count": null,
      "metadata": {
        "colab": {
          "base_uri": "https://localhost:8080/"
        },
        "id": "nf7yc0fQX0JA",
        "outputId": "0c45c219-9c8c-4100-fa4a-0dd73a18c569"
      },
      "outputs": [
        {
          "data": {
            "text/plain": [
              "2"
            ]
          },
          "execution_count": 12,
          "metadata": {},
          "output_type": "execute_result"
        }
      ],
      "source": [
        "vacation_days = 1\n",
        "if vacation_days:\n",
        "  vacation_days += 1\n",
        "  vacation_days\n",
        "vacation_days"
      ]
    },
    {
      "cell_type": "code",
      "execution_count": null,
      "metadata": {
        "id": "c4bJHsX_X0Me"
      },
      "outputs": [],
      "source": []
    },
    {
      "cell_type": "code",
      "execution_count": null,
      "metadata": {
        "colab": {
          "base_uri": "https://localhost:8080/"
        },
        "id": "d3VPL9X7j6Y3",
        "outputId": "133315a8-6ddb-4da7-c520-711a4a2e6301"
      },
      "outputs": [
        {
          "data": {
            "text/plain": [
              "False"
            ]
          },
          "execution_count": 1,
          "metadata": {},
          "output_type": "execute_result"
        }
      ],
      "source": [
        "bool(0)"
      ]
    },
    {
      "cell_type": "code",
      "execution_count": null,
      "metadata": {
        "colab": {
          "base_uri": "https://localhost:8080/"
        },
        "id": "YXwLPeJpj6dF",
        "outputId": "68388c12-9076-4fdf-d679-584dc4c1a134"
      },
      "outputs": [
        {
          "data": {
            "text/plain": [
              "True"
            ]
          },
          "execution_count": 3,
          "metadata": {},
          "output_type": "execute_result"
        }
      ],
      "source": [
        "bool (3)"
      ]
    },
    {
      "cell_type": "code",
      "execution_count": null,
      "metadata": {
        "colab": {
          "base_uri": "https://localhost:8080/"
        },
        "id": "v41LJopaj6hE",
        "outputId": "ab04a519-7755-4744-eb4c-61addde19f70"
      },
      "outputs": [
        {
          "data": {
            "text/plain": [
              "False"
            ]
          },
          "execution_count": 4,
          "metadata": {},
          "output_type": "execute_result"
        }
      ],
      "source": [
        "bool (\"\")"
      ]
    },
    {
      "cell_type": "code",
      "execution_count": null,
      "metadata": {
        "colab": {
          "base_uri": "https://localhost:8080/"
        },
        "id": "H55mLr8FkL1y",
        "outputId": "0689489a-9b3c-4ef4-9599-6c4b8e0a1505"
      },
      "outputs": [
        {
          "data": {
            "text/plain": [
              "False"
            ]
          },
          "execution_count": 5,
          "metadata": {},
          "output_type": "execute_result"
        }
      ],
      "source": [
        "bool ([])"
      ]
    },
    {
      "cell_type": "code",
      "execution_count": null,
      "metadata": {
        "colab": {
          "base_uri": "https://localhost:8080/"
        },
        "id": "dl0UNdJkkQG6",
        "outputId": "7f5fa9d5-a153-469b-ed70-99c0626c08f7"
      },
      "outputs": [
        {
          "name": "stdout",
          "output_type": "stream",
          "text": [
            "Falsy\n"
          ]
        }
      ],
      "source": [
        "test_var = (\"\")\n",
        "if test_var:\n",
        "  print(\"Truthy\")\n",
        "\n",
        "else:\n",
        "  print(\"Falsy\")"
      ]
    },
    {
      "cell_type": "code",
      "execution_count": null,
      "metadata": {
        "id": "WJkyVJEVlA8j"
      },
      "outputs": [],
      "source": []
    },
    {
      "cell_type": "code",
      "execution_count": null,
      "metadata": {
        "id": "yHy1kHR9lA_d"
      },
      "outputs": [],
      "source": [
        "# using data to make decision..\n",
        "# creating a management system which allows employees put in their vacation days and the system has its own way of\n",
        "# autotagging the vacation (disruptive, average or normal)\n"
      ]
    },
    {
      "cell_type": "code",
      "execution_count": null,
      "metadata": {
        "colab": {
          "base_uri": "https://localhost:8080/"
        },
        "id": "pNwEihnToW9C",
        "outputId": "4ba9335f-fa71-4b41-d54d-d9a7aa69bace"
      },
      "outputs": [
        {
          "name": "stdout",
          "output_type": "stream",
          "text": [
            "disruptive\n"
          ]
        }
      ],
      "source": [
        "# use the conditional statement that uses the number of days taken off as input to figure out if the vacation days is\n",
        "# disruptive, average or minimal..\n",
        "number_of_days = 8\n",
        "if number_of_days > 5:\n",
        "  print(\"disruptive\")\n",
        "\n",
        "else:\n",
        "  print(\"average\")"
      ]
    },
    {
      "cell_type": "code",
      "execution_count": null,
      "metadata": {
        "colab": {
          "base_uri": "https://localhost:8080/"
        },
        "id": "bKpJBznAoXAS",
        "outputId": "2a784c28-a29e-4cf6-9fe5-a15fd3c20050"
      },
      "outputs": [
        {
          "name": "stdout",
          "output_type": "stream",
          "text": [
            "minimal\n"
          ]
        }
      ],
      "source": [
        "number_of_days = 2\n",
        "if number_of_days > 5:\n",
        "  print(\"disruptive\")\n",
        "elif number_of_days < 3:\n",
        "  print(\"minimal\")\n",
        "else:\n",
        "  print(\"average\")"
      ]
    },
    {
      "cell_type": "code",
      "execution_count": null,
      "metadata": {
        "id": "G2JDfSNDoXDj"
      },
      "outputs": [],
      "source": []
    },
    {
      "cell_type": "markdown",
      "metadata": {
        "id": "rEvTAhK6r93Y"
      },
      "source": [
        "Conditionals lab session.."
      ]
    },
    {
      "cell_type": "code",
      "execution_count": null,
      "metadata": {
        "colab": {
          "base_uri": "https://localhost:8080/"
        },
        "id": "siNqt6h7r841",
        "outputId": "f489c63f-13e3-41a9-c862-e215f6e72b68"
      },
      "outputs": [
        {
          "name": "stdout",
          "output_type": "stream",
          "text": [
            "It is too hot out\n"
          ]
        }
      ],
      "source": [
        "# Test 1.. use conditionals to tell whether its hot outside or not..\n",
        "\n",
        "temperature = 65\n",
        "is_it_hot = temperature < 75\n",
        "if is_it_hot:\n",
        "  print(\"It is too hot out\")\n",
        "\n",
        "else:\n",
        "  print(\"This is nothing! Bring on the heat\")"
      ]
    },
    {
      "cell_type": "code",
      "execution_count": null,
      "metadata": {
        "id": "73V-t1uqr874"
      },
      "outputs": [],
      "source": []
    },
    {
      "cell_type": "code",
      "execution_count": null,
      "metadata": {
        "colab": {
          "base_uri": "https://localhost:8080/"
        },
        "id": "y_4YQzanr8_E",
        "outputId": "590860fd-6e28-4be2-9f84-cf48de10f428"
      },
      "outputs": [
        {
          "name": "stdout",
          "output_type": "stream",
          "text": [
            "my_number is greater than 50\n"
          ]
        }
      ],
      "source": [
        "# test 2.. using number and conditionals to assign value to my_number\n",
        "\n",
        "number_50 = 50\n",
        "my_number = 100\n",
        "\n",
        "if number_50 > my_number:\n",
        "  print(\"number_50 is greater than my_number\")\n",
        "\n",
        "elif number_50 > 50:\n",
        "  print(\"number_50 is greater than 50\")\n",
        "\n",
        "else:\n",
        "  print(\"my_number is greater than 50\")"
      ]
    },
    {
      "cell_type": "code",
      "execution_count": null,
      "metadata": {
        "id": "QIj03I9JlBDJ"
      },
      "outputs": [],
      "source": []
    },
    {
      "cell_type": "code",
      "execution_count": null,
      "metadata": {
        "colab": {
          "base_uri": "https://localhost:8080/"
        },
        "id": "2Q92govKQG40",
        "outputId": "fd2ef175-9cb2-4209-868d-13c6931b9408"
      },
      "outputs": [
        {
          "name": "stdout",
          "output_type": "stream",
          "text": [
            "Wednesday\n"
          ]
        }
      ],
      "source": [
        "# Test 3 .. there are 7 days in week sunday = day 1, saturday = day 7..\n",
        "# Use conditionals statements to assign the day of the week to the variable day_of_the_week based on number below..\n",
        "\n",
        "today_is = 4\n",
        "day_of_the_week = 4\n",
        "if today_is == day_of_the_week:\n",
        "  print(\"Wednesday\")\n",
        "\n",
        "else:\n",
        "    print(\"its not today\")"
      ]
    },
    {
      "cell_type": "code",
      "execution_count": null,
      "metadata": {
        "id": "gQHdQ861YB44"
      },
      "outputs": [],
      "source": []
    },
    {
      "cell_type": "code",
      "execution_count": null,
      "metadata": {
        "colab": {
          "base_uri": "https://localhost:8080/"
        },
        "id": "KyjXoTc4QG9q",
        "outputId": "4628dc88-67b6-4d67-cd90-7a7f40200dfd"
      },
      "outputs": [
        {
          "name": "stdout",
          "output_type": "stream",
          "text": [
            "its not today\n"
          ]
        }
      ],
      "source": [
        "# practicing with the lines of code..\n",
        "today_is = 5\n",
        "day_of_the_week = 2\n",
        "if today_is == day_of_the_week:\n",
        "  print(\"Wednesday\")\n",
        "\n",
        "elif today_is == day_of_the_week:\n",
        "  print(\"Monday\")\n",
        "  print(\"Tuesday\")\n",
        "  print(\"Wednesday\")\n",
        "  print(\"Thursday\")\n",
        "  print(\"Friday\")\n",
        "  print(\"Saturday\")\n",
        "  print(\"Sunday\")\n",
        "\n",
        "else:\n",
        "    print(\"its not today\")"
      ]
    },
    {
      "cell_type": "code",
      "execution_count": null,
      "metadata": {
        "id": "IIzaCvF3QHAX"
      },
      "outputs": [],
      "source": []
    },
    {
      "cell_type": "code",
      "execution_count": null,
      "metadata": {
        "colab": {
          "base_uri": "https://localhost:8080/"
        },
        "id": "_xbECNxtQHCm",
        "outputId": "97c0cc90-91e0-4d71-ccff-701b145c019d"
      },
      "outputs": [
        {
          "name": "stdout",
          "output_type": "stream",
          "text": [
            "True\n"
          ]
        }
      ],
      "source": [
        "# test 4 .. take string then see if it ends with certain sub_string\n",
        "# if it does assign the variable ends_with to True and if its does not then assign the variable to False\n",
        "\n",
        "string = \"Python\" # variable\n",
        "sub_string = \"en\"\n",
        "ends_with = \"en\"\n",
        "if sub_string.endswith(ends_with):\n",
        "  print(\"True\")\n",
        "else:\n",
        "  print(\"False\")\n"
      ]
    },
    {
      "cell_type": "code",
      "execution_count": null,
      "metadata": {
        "id": "32e2RATvVIlm"
      },
      "outputs": [],
      "source": []
    },
    {
      "cell_type": "code",
      "execution_count": null,
      "metadata": {
        "id": "GdJDSHSmVIrv"
      },
      "outputs": [],
      "source": []
    },
    {
      "cell_type": "code",
      "execution_count": null,
      "metadata": {
        "id": "5PZsvlt2VIuQ"
      },
      "outputs": [],
      "source": []
    }
  ],
  "metadata": {
    "colab": {
      "authorship_tag": "ABX9TyPzIpvsi0mmtWhcHyhLSofY",
      "include_colab_link": true,
      "mount_file_id": "1XJU--SvSqKizHuxGjAvWaMaVSpffAw1S",
      "provenance": []
    },
    "kernelspec": {
      "display_name": "Python 3",
      "name": "python3"
    },
    "language_info": {
      "name": "python"
    }
  },
  "nbformat": 4,
  "nbformat_minor": 0
}
